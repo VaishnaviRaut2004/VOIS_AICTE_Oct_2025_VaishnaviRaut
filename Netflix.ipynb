{
 "cells": [
  {
   "cell_type": "code",
   "execution_count": 3,
   "id": "682fab52-f106-48e9-9902-91360aafea0d",
   "metadata": {},
   "outputs": [],
   "source": [
    "import pandas as pd\n",
    "import numpy as np\n",
    "import plotly.express as px\n",
    "import plotly.graph_objects as go\n",
    "\n",
    "# 2. Load Dataset (Excel)\n",
    "df = pd.read_excel(r\"C:\\xml\\Netflix Dataset.xlsx\") "
   ]
  },
  {
   "cell_type": "code",
   "execution_count": 4,
   "id": "0b8de8be-8f62-4808-a028-1c3a5223d144",
   "metadata": {},
   "outputs": [
    {
     "name": "stdout",
     "output_type": "stream",
     "text": [
      "Shape of Dataset: (7789, 11)\n",
      "\n",
      "Columns: ['Show_Id', 'Category', 'Title', 'Director', 'Cast', 'Country', 'Release_Date', 'Rating', 'Duration', 'Type', 'Description']\n",
      "\n",
      "Missing Values:\n",
      " Show_Id            0\n",
      "Category           0\n",
      "Title              0\n",
      "Director        2388\n",
      "Cast             718\n",
      "Country          507\n",
      "Release_Date      10\n",
      "Rating             7\n",
      "Duration           0\n",
      "Type               0\n",
      "Description        0\n",
      "dtype: int64\n"
     ]
    }
   ],
   "source": [
    "print(\"Shape of Dataset:\", df.shape)\n",
    "print(\"\\nColumns:\", df.columns.tolist())\n",
    "print(\"\\nMissing Values:\\n\", df.isnull().sum())"
   ]
  },
  {
   "cell_type": "code",
   "execution_count": 5,
   "id": "0106a9b7-2ffb-46c1-9c5a-fb0e708a5911",
   "metadata": {},
   "outputs": [],
   "source": [
    "df['Release_Date'] = pd.to_datetime(df['Release_Date'], errors='coerce')\n",
    "df['Year'] = df['Release_Date'].dt.year\n",
    "df['Director'] = df['Director'].fillna(\"Unknown\")\n",
    "df['Cast'] = df['Cast'].fillna(\"Unknown\")\n",
    "df['Country'] = df['Country'].fillna(\"Unknown\")\n",
    "df['Rating'] = df['Rating'].fillna(\"Not Rated\")\n",
    "df['Main_Genre'] = df['Type'].apply(lambda x: x.split(\",\")[0].strip() if pd.notnull(x) else \"Unknown\")"
   ]
  },
  {
   "cell_type": "code",
   "execution_count": 6,
   "id": "8f9fe5ee-edc7-4c51-86c4-97a415b4b038",
   "metadata": {},
   "outputs": [
    {
     "name": "stdout",
     "output_type": "stream",
     "text": [
      "\n",
      "Category Distribution:\n",
      " Category\n",
      "Movie      5379\n",
      "TV Show    2410\n",
      "Name: count, dtype: int64\n",
      "\n",
      "Top 5 Countries:\n",
      " Country\n",
      "United States     2556\n",
      "India              923\n",
      "Unknown            507\n",
      "United Kingdom     397\n",
      "Japan              226\n",
      "Name: count, dtype: int64\n",
      "\n",
      "Dataset covers years from 2008.0 to 2021.0\n"
     ]
    }
   ],
   "source": [
    "print(\"\\nCategory Distribution:\\n\", df['Category'].value_counts())\n",
    "print(\"\\nTop 5 Countries:\\n\", df['Country'].value_counts().head(5))\n",
    "print(\"\\nDataset covers years from\", df['Year'].min(), \"to\", df['Year'].max())"
   ]
  },
  {
   "cell_type": "code",
   "execution_count": 7,
   "id": "12652c1f-64df-45a2-809a-f2e240cb2ee5",
   "metadata": {},
   "outputs": [
    {
     "data": {
      "application/vnd.plotly.v1+json": {
       "config": {
        "plotlyServerURL": "https://plot.ly"
       },
       "data": [
        {
         "hovertemplate": "Category=Movie<br>Year=%{x}<br>Number of Titles=%{y}<extra></extra>",
         "legendgroup": "Movie",
         "line": {
          "color": "#636efa",
          "dash": "solid"
         },
         "marker": {
          "symbol": "circle"
         },
         "mode": "lines+markers",
         "name": "Movie",
         "orientation": "v",
         "showlegend": true,
         "type": "scatter",
         "x": {
          "bdata": "AAAAAABgn0AAAAAAAGSfQAAAAAAAaJ9AAAAAAABsn0AAAAAAAHCfQAAAAAAAdJ9AAAAAAAB4n0AAAAAAAHyfQAAAAAAAgJ9AAAAAAACEn0AAAAAAAIifQAAAAAAAjJ9AAAAAAACQn0AAAAAAAJSfQA==",
          "dtype": "f8"
         },
         "xaxis": "x",
         "y": {
          "bdata": "AQACAAEADQADAAYAEwA6AAIBYAPnBNoFIQVYAA==",
          "dtype": "i2"
         },
         "yaxis": "y"
        },
        {
         "hovertemplate": "Category=TV Show<br>Year=%{x}<br>Number of Titles=%{y}<extra></extra>",
         "legendgroup": "TV Show",
         "line": {
          "color": "#EF553B",
          "dash": "solid"
         },
         "marker": {
          "symbol": "circle"
         },
         "mode": "lines+markers",
         "name": "TV Show",
         "orientation": "v",
         "showlegend": true,
         "type": "scatter",
         "x": {
          "bdata": "AAAAAABgn0AAAAAAAHSfQAAAAAAAeJ9AAAAAAAB8n0AAAAAAAICfQAAAAAAAhJ9AAAAAAACIn0AAAAAAAIyfQAAAAAAAkJ9AAAAAAACUn0A=",
          "dtype": "f8"
         },
         "xaxis": "x",
         "y": {
          "bdata": "AQAEAAUAFQCuAFEBlgF/ArgCHQA=",
          "dtype": "i2"
         },
         "yaxis": "y"
        }
       ],
       "layout": {
        "legend": {
         "title": {
          "text": "Category"
         },
         "tracegroupgap": 0
        },
        "template": {
         "data": {
          "bar": [
           {
            "error_x": {
             "color": "#2a3f5f"
            },
            "error_y": {
             "color": "#2a3f5f"
            },
            "marker": {
             "line": {
              "color": "#E5ECF6",
              "width": 0.5
             },
             "pattern": {
              "fillmode": "overlay",
              "size": 10,
              "solidity": 0.2
             }
            },
            "type": "bar"
           }
          ],
          "barpolar": [
           {
            "marker": {
             "line": {
              "color": "#E5ECF6",
              "width": 0.5
             },
             "pattern": {
              "fillmode": "overlay",
              "size": 10,
              "solidity": 0.2
             }
            },
            "type": "barpolar"
           }
          ],
          "carpet": [
           {
            "aaxis": {
             "endlinecolor": "#2a3f5f",
             "gridcolor": "white",
             "linecolor": "white",
             "minorgridcolor": "white",
             "startlinecolor": "#2a3f5f"
            },
            "baxis": {
             "endlinecolor": "#2a3f5f",
             "gridcolor": "white",
             "linecolor": "white",
             "minorgridcolor": "white",
             "startlinecolor": "#2a3f5f"
            },
            "type": "carpet"
           }
          ],
          "choropleth": [
           {
            "colorbar": {
             "outlinewidth": 0,
             "ticks": ""
            },
            "type": "choropleth"
           }
          ],
          "contour": [
           {
            "colorbar": {
             "outlinewidth": 0,
             "ticks": ""
            },
            "colorscale": [
             [
              0,
              "#0d0887"
             ],
             [
              0.1111111111111111,
              "#46039f"
             ],
             [
              0.2222222222222222,
              "#7201a8"
             ],
             [
              0.3333333333333333,
              "#9c179e"
             ],
             [
              0.4444444444444444,
              "#bd3786"
             ],
             [
              0.5555555555555556,
              "#d8576b"
             ],
             [
              0.6666666666666666,
              "#ed7953"
             ],
             [
              0.7777777777777778,
              "#fb9f3a"
             ],
             [
              0.8888888888888888,
              "#fdca26"
             ],
             [
              1,
              "#f0f921"
             ]
            ],
            "type": "contour"
           }
          ],
          "contourcarpet": [
           {
            "colorbar": {
             "outlinewidth": 0,
             "ticks": ""
            },
            "type": "contourcarpet"
           }
          ],
          "heatmap": [
           {
            "colorbar": {
             "outlinewidth": 0,
             "ticks": ""
            },
            "colorscale": [
             [
              0,
              "#0d0887"
             ],
             [
              0.1111111111111111,
              "#46039f"
             ],
             [
              0.2222222222222222,
              "#7201a8"
             ],
             [
              0.3333333333333333,
              "#9c179e"
             ],
             [
              0.4444444444444444,
              "#bd3786"
             ],
             [
              0.5555555555555556,
              "#d8576b"
             ],
             [
              0.6666666666666666,
              "#ed7953"
             ],
             [
              0.7777777777777778,
              "#fb9f3a"
             ],
             [
              0.8888888888888888,
              "#fdca26"
             ],
             [
              1,
              "#f0f921"
             ]
            ],
            "type": "heatmap"
           }
          ],
          "histogram": [
           {
            "marker": {
             "pattern": {
              "fillmode": "overlay",
              "size": 10,
              "solidity": 0.2
             }
            },
            "type": "histogram"
           }
          ],
          "histogram2d": [
           {
            "colorbar": {
             "outlinewidth": 0,
             "ticks": ""
            },
            "colorscale": [
             [
              0,
              "#0d0887"
             ],
             [
              0.1111111111111111,
              "#46039f"
             ],
             [
              0.2222222222222222,
              "#7201a8"
             ],
             [
              0.3333333333333333,
              "#9c179e"
             ],
             [
              0.4444444444444444,
              "#bd3786"
             ],
             [
              0.5555555555555556,
              "#d8576b"
             ],
             [
              0.6666666666666666,
              "#ed7953"
             ],
             [
              0.7777777777777778,
              "#fb9f3a"
             ],
             [
              0.8888888888888888,
              "#fdca26"
             ],
             [
              1,
              "#f0f921"
             ]
            ],
            "type": "histogram2d"
           }
          ],
          "histogram2dcontour": [
           {
            "colorbar": {
             "outlinewidth": 0,
             "ticks": ""
            },
            "colorscale": [
             [
              0,
              "#0d0887"
             ],
             [
              0.1111111111111111,
              "#46039f"
             ],
             [
              0.2222222222222222,
              "#7201a8"
             ],
             [
              0.3333333333333333,
              "#9c179e"
             ],
             [
              0.4444444444444444,
              "#bd3786"
             ],
             [
              0.5555555555555556,
              "#d8576b"
             ],
             [
              0.6666666666666666,
              "#ed7953"
             ],
             [
              0.7777777777777778,
              "#fb9f3a"
             ],
             [
              0.8888888888888888,
              "#fdca26"
             ],
             [
              1,
              "#f0f921"
             ]
            ],
            "type": "histogram2dcontour"
           }
          ],
          "mesh3d": [
           {
            "colorbar": {
             "outlinewidth": 0,
             "ticks": ""
            },
            "type": "mesh3d"
           }
          ],
          "parcoords": [
           {
            "line": {
             "colorbar": {
              "outlinewidth": 0,
              "ticks": ""
             }
            },
            "type": "parcoords"
           }
          ],
          "pie": [
           {
            "automargin": true,
            "type": "pie"
           }
          ],
          "scatter": [
           {
            "fillpattern": {
             "fillmode": "overlay",
             "size": 10,
             "solidity": 0.2
            },
            "type": "scatter"
           }
          ],
          "scatter3d": [
           {
            "line": {
             "colorbar": {
              "outlinewidth": 0,
              "ticks": ""
             }
            },
            "marker": {
             "colorbar": {
              "outlinewidth": 0,
              "ticks": ""
             }
            },
            "type": "scatter3d"
           }
          ],
          "scattercarpet": [
           {
            "marker": {
             "colorbar": {
              "outlinewidth": 0,
              "ticks": ""
             }
            },
            "type": "scattercarpet"
           }
          ],
          "scattergeo": [
           {
            "marker": {
             "colorbar": {
              "outlinewidth": 0,
              "ticks": ""
             }
            },
            "type": "scattergeo"
           }
          ],
          "scattergl": [
           {
            "marker": {
             "colorbar": {
              "outlinewidth": 0,
              "ticks": ""
             }
            },
            "type": "scattergl"
           }
          ],
          "scattermap": [
           {
            "marker": {
             "colorbar": {
              "outlinewidth": 0,
              "ticks": ""
             }
            },
            "type": "scattermap"
           }
          ],
          "scattermapbox": [
           {
            "marker": {
             "colorbar": {
              "outlinewidth": 0,
              "ticks": ""
             }
            },
            "type": "scattermapbox"
           }
          ],
          "scatterpolar": [
           {
            "marker": {
             "colorbar": {
              "outlinewidth": 0,
              "ticks": ""
             }
            },
            "type": "scatterpolar"
           }
          ],
          "scatterpolargl": [
           {
            "marker": {
             "colorbar": {
              "outlinewidth": 0,
              "ticks": ""
             }
            },
            "type": "scatterpolargl"
           }
          ],
          "scatterternary": [
           {
            "marker": {
             "colorbar": {
              "outlinewidth": 0,
              "ticks": ""
             }
            },
            "type": "scatterternary"
           }
          ],
          "surface": [
           {
            "colorbar": {
             "outlinewidth": 0,
             "ticks": ""
            },
            "colorscale": [
             [
              0,
              "#0d0887"
             ],
             [
              0.1111111111111111,
              "#46039f"
             ],
             [
              0.2222222222222222,
              "#7201a8"
             ],
             [
              0.3333333333333333,
              "#9c179e"
             ],
             [
              0.4444444444444444,
              "#bd3786"
             ],
             [
              0.5555555555555556,
              "#d8576b"
             ],
             [
              0.6666666666666666,
              "#ed7953"
             ],
             [
              0.7777777777777778,
              "#fb9f3a"
             ],
             [
              0.8888888888888888,
              "#fdca26"
             ],
             [
              1,
              "#f0f921"
             ]
            ],
            "type": "surface"
           }
          ],
          "table": [
           {
            "cells": {
             "fill": {
              "color": "#EBF0F8"
             },
             "line": {
              "color": "white"
             }
            },
            "header": {
             "fill": {
              "color": "#C8D4E3"
             },
             "line": {
              "color": "white"
             }
            },
            "type": "table"
           }
          ]
         },
         "layout": {
          "annotationdefaults": {
           "arrowcolor": "#2a3f5f",
           "arrowhead": 0,
           "arrowwidth": 1
          },
          "autotypenumbers": "strict",
          "coloraxis": {
           "colorbar": {
            "outlinewidth": 0,
            "ticks": ""
           }
          },
          "colorscale": {
           "diverging": [
            [
             0,
             "#8e0152"
            ],
            [
             0.1,
             "#c51b7d"
            ],
            [
             0.2,
             "#de77ae"
            ],
            [
             0.3,
             "#f1b6da"
            ],
            [
             0.4,
             "#fde0ef"
            ],
            [
             0.5,
             "#f7f7f7"
            ],
            [
             0.6,
             "#e6f5d0"
            ],
            [
             0.7,
             "#b8e186"
            ],
            [
             0.8,
             "#7fbc41"
            ],
            [
             0.9,
             "#4d9221"
            ],
            [
             1,
             "#276419"
            ]
           ],
           "sequential": [
            [
             0,
             "#0d0887"
            ],
            [
             0.1111111111111111,
             "#46039f"
            ],
            [
             0.2222222222222222,
             "#7201a8"
            ],
            [
             0.3333333333333333,
             "#9c179e"
            ],
            [
             0.4444444444444444,
             "#bd3786"
            ],
            [
             0.5555555555555556,
             "#d8576b"
            ],
            [
             0.6666666666666666,
             "#ed7953"
            ],
            [
             0.7777777777777778,
             "#fb9f3a"
            ],
            [
             0.8888888888888888,
             "#fdca26"
            ],
            [
             1,
             "#f0f921"
            ]
           ],
           "sequentialminus": [
            [
             0,
             "#0d0887"
            ],
            [
             0.1111111111111111,
             "#46039f"
            ],
            [
             0.2222222222222222,
             "#7201a8"
            ],
            [
             0.3333333333333333,
             "#9c179e"
            ],
            [
             0.4444444444444444,
             "#bd3786"
            ],
            [
             0.5555555555555556,
             "#d8576b"
            ],
            [
             0.6666666666666666,
             "#ed7953"
            ],
            [
             0.7777777777777778,
             "#fb9f3a"
            ],
            [
             0.8888888888888888,
             "#fdca26"
            ],
            [
             1,
             "#f0f921"
            ]
           ]
          },
          "colorway": [
           "#636efa",
           "#EF553B",
           "#00cc96",
           "#ab63fa",
           "#FFA15A",
           "#19d3f3",
           "#FF6692",
           "#B6E880",
           "#FF97FF",
           "#FECB52"
          ],
          "font": {
           "color": "#2a3f5f"
          },
          "geo": {
           "bgcolor": "white",
           "lakecolor": "white",
           "landcolor": "#E5ECF6",
           "showlakes": true,
           "showland": true,
           "subunitcolor": "white"
          },
          "hoverlabel": {
           "align": "left"
          },
          "hovermode": "closest",
          "mapbox": {
           "style": "light"
          },
          "paper_bgcolor": "white",
          "plot_bgcolor": "#E5ECF6",
          "polar": {
           "angularaxis": {
            "gridcolor": "white",
            "linecolor": "white",
            "ticks": ""
           },
           "bgcolor": "#E5ECF6",
           "radialaxis": {
            "gridcolor": "white",
            "linecolor": "white",
            "ticks": ""
           }
          },
          "scene": {
           "xaxis": {
            "backgroundcolor": "#E5ECF6",
            "gridcolor": "white",
            "gridwidth": 2,
            "linecolor": "white",
            "showbackground": true,
            "ticks": "",
            "zerolinecolor": "white"
           },
           "yaxis": {
            "backgroundcolor": "#E5ECF6",
            "gridcolor": "white",
            "gridwidth": 2,
            "linecolor": "white",
            "showbackground": true,
            "ticks": "",
            "zerolinecolor": "white"
           },
           "zaxis": {
            "backgroundcolor": "#E5ECF6",
            "gridcolor": "white",
            "gridwidth": 2,
            "linecolor": "white",
            "showbackground": true,
            "ticks": "",
            "zerolinecolor": "white"
           }
          },
          "shapedefaults": {
           "line": {
            "color": "#2a3f5f"
           }
          },
          "ternary": {
           "aaxis": {
            "gridcolor": "white",
            "linecolor": "white",
            "ticks": ""
           },
           "baxis": {
            "gridcolor": "white",
            "linecolor": "white",
            "ticks": ""
           },
           "bgcolor": "#E5ECF6",
           "caxis": {
            "gridcolor": "white",
            "linecolor": "white",
            "ticks": ""
           }
          },
          "title": {
           "x": 0.05
          },
          "xaxis": {
           "automargin": true,
           "gridcolor": "white",
           "linecolor": "white",
           "ticks": "",
           "title": {
            "standoff": 15
           },
           "zerolinecolor": "white",
           "zerolinewidth": 2
          },
          "yaxis": {
           "automargin": true,
           "gridcolor": "white",
           "linecolor": "white",
           "ticks": "",
           "title": {
            "standoff": 15
           },
           "zerolinecolor": "white",
           "zerolinewidth": 2
          }
         }
        },
        "title": {
         "text": "Movies vs TV Shows Released per Year"
        },
        "xaxis": {
         "anchor": "y",
         "domain": [
          0,
          1
         ],
         "title": {
          "text": "Year"
         }
        },
        "yaxis": {
         "anchor": "x",
         "domain": [
          0,
          1
         ],
         "title": {
          "text": "Number of Titles"
         }
        }
       }
      },
      "image/png": "[encoded data removed]"
     },
     "metadata": {},
     "output_type": "display_data"
    }
   ],
   "source": [
    "content_trend = df.groupby(['Year', 'Category']).size().reset_index(name='Count')\n",
    "fig1 = px.line(content_trend, x='Year', y='Count', color='Category', \n",
    "               markers=True, title=\"Movies vs TV Shows Released per Year\",\n",
    "               labels={'Count': 'Number of Titles', 'Year': 'Year'})\n",
    "fig1.show()\n"
   ]
  },
  {
   "cell_type": "code",
   "execution_count": 8,
   "id": "88b83800-f2cb-413b-bfbb-d74f57a72ca9",
   "metadata": {},
   "outputs": [
    {
     "data": {
      "application/vnd.plotly.v1+json": {
       "config": {
        "plotlyServerURL": "https://plot.ly"
       },
       "data": [
        {
         "hovertemplate": "Count=%{marker.color}<br>Genre=%{y}<extra></extra>",
         "legendgroup": "",
         "marker": {
          "color": {
           "bdata": "aQUzBO8C0QKyAvYBcQFnAUEB9AA=",
           "dtype": "i2"
          },
          "coloraxis": "coloraxis",
          "pattern": {
           "shape": ""
          }
         },
         "name": "",
         "orientation": "h",
         "showlegend": false,
         "textposition": "auto",
         "type": "bar",
         "x": {
          "bdata": "aQUzBO8C0QKyAvYBcQFnAUEB9AA=",
          "dtype": "i2"
         },
         "xaxis": "x",
         "y": [
          "Dramas",
          "Comedies",
          "Documentaries",
          "Action & Adventure",
          "International TV Shows",
          "Children & Family Movies",
          "Crime TV Shows",
          "Kids' TV",
          "Stand-Up Comedy",
          "Horror Movies"
         ],
         "yaxis": "y"
        }
       ],
       "layout": {
        "barmode": "relative",
        "coloraxis": {
         "colorbar": {
          "title": {
           "text": "Count"
          }
         },
         "colorscale": [
          [
           0,
           "#440154"
          ],
          [
           0.1111111111111111,
           "#482878"
          ],
          [
           0.2222222222222222,
           "#3e4989"
          ],
          [
           0.3333333333333333,
           "#31688e"
          ],
          [
           0.4444444444444444,
           "#26828e"
          ],
          [
           0.5555555555555556,
           "#1f9e89"
          ],
          [
           0.6666666666666666,
           "#35b779"
          ],
          [
           0.7777777777777778,
           "#6ece58"
          ],
          [
           0.8888888888888888,
           "#b5de2b"
          ],
          [
           1,
           "#fde725"
          ]
         ]
        },
        "legend": {
         "tracegroupgap": 0
        },
        "template": {
         "data": {
          "bar": [
           {
            "error_x": {
             "color": "#2a3f5f"
            },
            "error_y": {
             "color": "#2a3f5f"
            },
            "marker": {
             "line": {
              "color": "#E5ECF6",
              "width": 0.5
             },
             "pattern": {
              "fillmode": "overlay",
              "size": 10,
              "solidity": 0.2
             }
            },
            "type": "bar"
           }
          ],
          "barpolar": [
           {
            "marker": {
             "line": {
              "color": "#E5ECF6",
              "width": 0.5
             },
             "pattern": {
              "fillmode": "overlay",
              "size": 10,
              "solidity": 0.2
             }
            },
            "type": "barpolar"
           }
          ],
          "carpet": [
           {
            "aaxis": {
             "endlinecolor": "#2a3f5f",
             "gridcolor": "white",
             "linecolor": "white",
             "minorgridcolor": "white",
             "startlinecolor": "#2a3f5f"
            },
            "baxis": {
             "endlinecolor": "#2a3f5f",
             "gridcolor": "white",
             "linecolor": "white",
             "minorgridcolor": "white",
             "startlinecolor": "#2a3f5f"
            },
            "type": "carpet"
           }
          ],
          "choropleth": [
           {
            "colorbar": {
             "outlinewidth": 0,
             "ticks": ""
            },
            "type": "choropleth"
           }
          ],
          "contour": [
           {
            "colorbar": {
             "outlinewidth": 0,
             "ticks": ""
            },
            "colorscale": [
             [
              0,
              "#0d0887"
             ],
             [
              0.1111111111111111,
              "#46039f"
             ],
             [
              0.2222222222222222,
              "#7201a8"
             ],
             [
              0.3333333333333333,
              "#9c179e"
             ],
             [
              0.4444444444444444,
              "#bd3786"
             ],
             [
              0.5555555555555556,
              "#d8576b"
             ],
             [
              0.6666666666666666,
              "#ed7953"
             ],
             [
              0.7777777777777778,
              "#fb9f3a"
             ],
             [
              0.8888888888888888,
              "#fdca26"
             ],
             [
              1,
              "#f0f921"
             ]
            ],
            "type": "contour"
           }
          ],
          "contourcarpet": [
           {
            "colorbar": {
             "outlinewidth": 0,
             "ticks": ""
            },
            "type": "contourcarpet"
           }
          ],
          "heatmap": [
           {
            "colorbar": {
             "outlinewidth": 0,
             "ticks": ""
            },
            "colorscale": [
             [
              0,
              "#0d0887"
             ],
             [
              0.1111111111111111,
              "#46039f"
             ],
             [
              0.2222222222222222,
              "#7201a8"
             ],
             [
              0.3333333333333333,
              "#9c179e"
             ],
             [
              0.4444444444444444,
              "#bd3786"
             ],
             [
              0.5555555555555556,
              "#d8576b"
             ],
             [
              0.6666666666666666,
              "#ed7953"
             ],
             [
              0.7777777777777778,
              "#fb9f3a"
             ],
             [
              0.8888888888888888,
              "#fdca26"
             ],
             [
              1,
              "#f0f921"
             ]
            ],
            "type": "heatmap"
           }
          ],
          "histogram": [
           {
            "marker": {
             "pattern": {
              "fillmode": "overlay",
              "size": 10,
              "solidity": 0.2
             }
            },
            "type": "histogram"
           }
          ],
          "histogram2d": [
           {
            "colorbar": {
             "outlinewidth": 0,
             "ticks": ""
            },
            "colorscale": [
             [
              0,
              "#0d0887"
             ],
             [
              0.1111111111111111,
              "#46039f"
             ],
             [
              0.2222222222222222,
              "#7201a8"
             ],
             [
              0.3333333333333333,
              "#9c179e"
             ],
             [
              0.4444444444444444,
              "#bd3786"
             ],
             [
              0.5555555555555556,
              "#d8576b"
             ],
             [
              0.6666666666666666,
              "#ed7953"
             ],
             [
              0.7777777777777778,
              "#fb9f3a"
             ],
             [
              0.8888888888888888,
              "#fdca26"
             ],
             [
              1,
              "#f0f921"
             ]
            ],
            "type": "histogram2d"
           }
          ],
          "histogram2dcontour": [
           {
            "colorbar": {
             "outlinewidth": 0,
             "ticks": ""
            },
            "colorscale": [
             [
              0,
              "#0d0887"
             ],
             [
              0.1111111111111111,
              "#46039f"
             ],
             [
              0.2222222222222222,
              "#7201a8"
             ],
             [
              0.3333333333333333,
              "#9c179e"
             ],
             [
              0.4444444444444444,
              "#bd3786"
             ],
             [
              0.5555555555555556,
              "#d8576b"
             ],
             [
              0.6666666666666666,
              "#ed7953"
             ],
             [
              0.7777777777777778,
              "#fb9f3a"
             ],
             [
              0.8888888888888888,
              "#fdca26"
             ],
             [
              1,
              "#f0f921"
             ]
            ],
            "type": "histogram2dcontour"
           }
          ],
          "mesh3d": [
           {
            "colorbar": {
             "outlinewidth": 0,
             "ticks": ""
            },
            "type": "mesh3d"
           }
          ],
          "parcoords": [
           {
            "line": {
             "colorbar": {
              "outlinewidth": 0,
              "ticks": ""
             }
            },
            "type": "parcoords"
           }
          ],
          "pie": [
           {
            "automargin": true,
            "type": "pie"
           }
          ],
          "scatter": [
           {
            "fillpattern": {
             "fillmode": "overlay",
             "size": 10,
             "solidity": 0.2
            },
            "type": "scatter"
           }
          ],
          "scatter3d": [
           {
            "line": {
             "colorbar": {
              "outlinewidth": 0,
              "ticks": ""
             }
            },
            "marker": {
             "colorbar": {
              "outlinewidth": 0,
              "ticks": ""
             }
            },
            "type": "scatter3d"
           }
          ],
          "scattercarpet": [
           {
            "marker": {
             "colorbar": {
              "outlinewidth": 0,
              "ticks": ""
             }
            },
            "type": "scattercarpet"
           }
          ],
          "scattergeo": [
           {
            "marker": {
             "colorbar": {
              "outlinewidth": 0,
              "ticks": ""
             }
            },
            "type": "scattergeo"
           }
          ],
          "scattergl": [
           {
            "marker": {
             "colorbar": {
              "outlinewidth": 0,
              "ticks": ""
             }
            },
            "type": "scattergl"
           }
          ],
          "scattermap": [
           {
            "marker": {
             "colorbar": {
              "outlinewidth": 0,
              "ticks": ""
             }
            },
            "type": "scattermap"
           }
          ],
          "scattermapbox": [
           {
            "marker": {
             "colorbar": {
              "outlinewidth": 0,
              "ticks": ""
             }
            },
            "type": "scattermapbox"
           }
          ],
          "scatterpolar": [
           {
            "marker": {
             "colorbar": {
              "outlinewidth": 0,
              "ticks": ""
             }
            },
            "type": "scatterpolar"
           }
          ],
          "scatterpolargl": [
           {
            "marker": {
             "colorbar": {
              "outlinewidth": 0,
              "ticks": ""
             }
            },
            "type": "scatterpolargl"
           }
          ],
          "scatterternary": [
           {
            "marker": {
             "colorbar": {
              "outlinewidth": 0,
              "ticks": ""
             }
            },
            "type": "scatterternary"
           }
          ],
          "surface": [
           {
            "colorbar": {
             "outlinewidth": 0,
             "ticks": ""
            },
            "colorscale": [
             [
              0,
              "#0d0887"
             ],
             [
              0.1111111111111111,
              "#46039f"
             ],
             [
              0.2222222222222222,
              "#7201a8"
             ],
             [
              0.3333333333333333,
              "#9c179e"
             ],
             [
              0.4444444444444444,
              "#bd3786"
             ],
             [
              0.5555555555555556,
              "#d8576b"
             ],
             [
              0.6666666666666666,
              "#ed7953"
             ],
             [
              0.7777777777777778,
              "#fb9f3a"
             ],
             [
              0.8888888888888888,
              "#fdca26"
             ],
             [
              1,
              "#f0f921"
             ]
            ],
            "type": "surface"
           }
          ],
          "table": [
           {
            "cells": {
             "fill": {
              "color": "#EBF0F8"
             },
             "line": {
              "color": "white"
             }
            },
            "header": {
             "fill": {
              "color": "#C8D4E3"
             },
             "line": {
              "color": "white"
             }
            },
            "type": "table"
           }
          ]
         },
         "layout": {
          "annotationdefaults": {
           "arrowcolor": "#2a3f5f",
           "arrowhead": 0,
           "arrowwidth": 1
          },
          "autotypenumbers": "strict",
          "coloraxis": {
           "colorbar": {
            "outlinewidth": 0,
            "ticks": ""
           }
          },
          "colorscale": {
           "diverging": [
            [
             0,
             "#8e0152"
            ],
            [
             0.1,
             "#c51b7d"
            ],
            [
             0.2,
             "#de77ae"
            ],
            [
             0.3,
             "#f1b6da"
            ],
            [
             0.4,
             "#fde0ef"
            ],
            [
             0.5,
             "#f7f7f7"
            ],
            [
             0.6,
             "#e6f5d0"
            ],
            [
             0.7,
             "#b8e186"
            ],
            [
             0.8,
             "#7fbc41"
            ],
            [
             0.9,
             "#4d9221"
            ],
            [
             1,
             "#276419"
            ]
           ],
           "sequential": [
            [
             0,
             "#0d0887"
            ],
            [
             0.1111111111111111,
             "#46039f"
            ],
            [
             0.2222222222222222,
             "#7201a8"
            ],
            [
             0.3333333333333333,
             "#9c179e"
            ],
            [
             0.4444444444444444,
             "#bd3786"
            ],
            [
             0.5555555555555556,
             "#d8576b"
            ],
            [
             0.6666666666666666,
             "#ed7953"
            ],
            [
             0.7777777777777778,
             "#fb9f3a"
            ],
            [
             0.8888888888888888,
             "#fdca26"
            ],
            [
             1,
             "#f0f921"
            ]
           ],
           "sequentialminus": [
            [
             0,
             "#0d0887"
            ],
            [
             0.1111111111111111,
             "#46039f"
            ],
            [
             0.2222222222222222,
             "#7201a8"
            ],
            [
             0.3333333333333333,
             "#9c179e"
            ],
            [
             0.4444444444444444,
             "#bd3786"
            ],
            [
             0.5555555555555556,
             "#d8576b"
            ],
            [
             0.6666666666666666,
             "#ed7953"
            ],
            [
             0.7777777777777778,
             "#fb9f3a"
            ],
            [
             0.8888888888888888,
             "#fdca26"
            ],
            [
             1,
             "#f0f921"
            ]
           ]
          },
          "colorway": [
           "#636efa",
           "#EF553B",
           "#00cc96",
           "#ab63fa",
           "#FFA15A",
           "#19d3f3",
           "#FF6692",
           "#B6E880",
           "#FF97FF",
           "#FECB52"
          ],
          "font": {
           "color": "#2a3f5f"
          },
          "geo": {
           "bgcolor": "white",
           "lakecolor": "white",
           "landcolor": "#E5ECF6",
           "showlakes": true,
           "showland": true,
           "subunitcolor": "white"
          },
          "hoverlabel": {
           "align": "left"
          },
          "hovermode": "closest",
          "mapbox": {
           "style": "light"
          },
          "paper_bgcolor": "white",
          "plot_bgcolor": "#E5ECF6",
          "polar": {
           "angularaxis": {
            "gridcolor": "white",
            "linecolor": "white",
            "ticks": ""
           },
           "bgcolor": "#E5ECF6",
           "radialaxis": {
            "gridcolor": "white",
            "linecolor": "white",
            "ticks": ""
           }
          },
          "scene": {
           "xaxis": {
            "backgroundcolor": "#E5ECF6",
            "gridcolor": "white",
            "gridwidth": 2,
            "linecolor": "white",
            "showbackground": true,
            "ticks": "",
            "zerolinecolor": "white"
           },
           "yaxis": {
            "backgroundcolor": "#E5ECF6",
            "gridcolor": "white",
            "gridwidth": 2,
            "linecolor": "white",
            "showbackground": true,
            "ticks": "",
            "zerolinecolor": "white"
           },
           "zaxis": {
            "backgroundcolor": "#E5ECF6",
            "gridcolor": "white",
            "gridwidth": 2,
            "linecolor": "white",
            "showbackground": true,
            "ticks": "",
            "zerolinecolor": "white"
           }
          },
          "shapedefaults": {
           "line": {
            "color": "#2a3f5f"
           }
          },
          "ternary": {
           "aaxis": {
            "gridcolor": "white",
            "linecolor": "white",
            "ticks": ""
           },
           "baxis": {
            "gridcolor": "white",
            "linecolor": "white",
            "ticks": ""
           },
           "bgcolor": "#E5ECF6",
           "caxis": {
            "gridcolor": "white",
            "linecolor": "white",
            "ticks": ""
           }
          },
          "title": {
           "x": 0.05
          },
          "xaxis": {
           "automargin": true,
           "gridcolor": "white",
           "linecolor": "white",
           "ticks": "",
           "title": {
            "standoff": 15
           },
           "zerolinecolor": "white",
           "zerolinewidth": 2
          },
          "yaxis": {
           "automargin": true,
           "gridcolor": "white",
           "linecolor": "white",
           "ticks": "",
           "title": {
            "standoff": 15
           },
           "zerolinecolor": "white",
           "zerolinewidth": 2
          }
         }
        },
        "title": {
         "text": "Top 10 Genres on Netflix"
        },
        "xaxis": {
         "anchor": "y",
         "domain": [
          0,
          1
         ],
         "title": {
          "text": "Count"
         }
        },
        "yaxis": {
         "anchor": "x",
         "categoryorder": "total ascending",
         "domain": [
          0,
          1
         ],
         "title": {
          "text": "Genre"
         }
        }
       }
      },
      "image/png": "[encoded data removed]"
     },
     "metadata": {},
     "output_type": "display_data"
    }
   ],
   "source": [
    "top_genres = df['Main_Genre'].value_counts().head(10).reset_index()\n",
    "top_genres.columns = ['Genre', 'Count']\n",
    "fig2 = px.bar(top_genres, x='Count', y='Genre', orientation='h', \n",
    "              color='Count', color_continuous_scale='Viridis',\n",
    "              title=\"Top 10 Genres on Netflix\")\n",
    "fig2.update_layout(yaxis={'categoryorder':'total ascending'})\n",
    "fig2.show()\n"
   ]
  },
  {
   "cell_type": "code",
   "execution_count": 9,
   "id": "3814634a-7f1e-4d0e-a4da-0117f81eb4fc",
   "metadata": {},
   "outputs": [
    {
     "data": {
      "application/vnd.plotly.v1+json": {
       "config": {
        "plotlyServerURL": "https://plot.ly"
       },
       "data": [
        {
         "hovertemplate": "Category=Movie<br>Country=%{x}<br>Count=%{text}<extra></extra>",
         "legendgroup": "Movie",
         "marker": {
          "color": "rgb(102,194,165)",
          "pattern": {
           "shape": ""
          }
         },
         "name": "Movie",
         "orientation": "v",
         "showlegend": true,
         "text": {
          "bdata": "AAAAAACAXUAAAAAAAEBWQAAAAAAAQFFAAAAAAACgikAAAAAAAEBRQAAAAAAAAEJAAAAAAABAVkAAAAAAACBoQAAAAAAA7JxAAAAAAADAbEA=",
          "dtype": "f8"
         },
         "textposition": "auto",
         "type": "bar",
         "x": [
          "Canada",
          "Egypt",
          "France",
          "India",
          "Japan",
          "South Korea",
          "Spain",
          "United Kingdom",
          "United States",
          "Unknown"
         ],
         "xaxis": "x",
         "y": {
          "bdata": "dgBZAEUAVANFACQAWQDBADsH5gA=",
          "dtype": "i2"
         },
         "yaxis": "y"
        },
        {
         "hovertemplate": "Category=TV Show<br>Country=%{x}<br>Count=%{text}<extra></extra>",
         "legendgroup": "TV Show",
         "marker": {
          "color": "rgb(252,141,98)",
          "pattern": {
           "shape": ""
          }
         },
         "name": "TV Show",
         "orientation": "v",
         "showlegend": true,
         "text": {
          "bdata": "AAAAAACATUAAAAAAAAAoQAAAAAAAAEdAAAAAAADAUUAAAAAAAKBjQAAAAAAAYGJAAAAAAACARkAAAAAAAIBpQAAAAAAACIZAAAAAAABQcUA=",
          "dtype": "f8"
         },
         "textposition": "auto",
         "type": "bar",
         "x": [
          "Canada",
          "Egypt",
          "France",
          "India",
          "Japan",
          "South Korea",
          "Spain",
          "United Kingdom",
          "United States",
          "Unknown"
         ],
         "xaxis": "x",
         "y": {
          "bdata": "OwAMAC4ARwCdAJMALQDMAMECFQE=",
          "dtype": "i2"
         },
         "yaxis": "y"
        }
       ],
       "layout": {
        "barmode": "stack",
        "legend": {
         "title": {
          "text": "Category"
         },
         "tracegroupgap": 0
        },
        "template": {
         "data": {
          "bar": [
           {
            "error_x": {
             "color": "#2a3f5f"
            },
            "error_y": {
             "color": "#2a3f5f"
            },
            "marker": {
             "line": {
              "color": "#E5ECF6",
              "width": 0.5
             },
             "pattern": {
              "fillmode": "overlay",
              "size": 10,
              "solidity": 0.2
             }
            },
            "type": "bar"
           }
          ],
          "barpolar": [
           {
            "marker": {
             "line": {
              "color": "#E5ECF6",
              "width": 0.5
             },
             "pattern": {
              "fillmode": "overlay",
              "size": 10,
              "solidity": 0.2
             }
            },
            "type": "barpolar"
           }
          ],
          "carpet": [
           {
            "aaxis": {
             "endlinecolor": "#2a3f5f",
             "gridcolor": "white",
             "linecolor": "white",
             "minorgridcolor": "white",
             "startlinecolor": "#2a3f5f"
            },
            "baxis": {
             "endlinecolor": "#2a3f5f",
             "gridcolor": "white",
             "linecolor": "white",
             "minorgridcolor": "white",
             "startlinecolor": "#2a3f5f"
            },
            "type": "carpet"
           }
          ],
          "choropleth": [
           {
            "colorbar": {
             "outlinewidth": 0,
             "ticks": ""
            },
            "type": "choropleth"
           }
          ],
          "contour": [
           {
            "colorbar": {
             "outlinewidth": 0,
             "ticks": ""
            },
            "colorscale": [
             [
              0,
              "#0d0887"
             ],
             [
              0.1111111111111111,
              "#46039f"
             ],
             [
              0.2222222222222222,
              "#7201a8"
             ],
             [
              0.3333333333333333,
              "#9c179e"
             ],
             [
              0.4444444444444444,
              "#bd3786"
             ],
             [
              0.5555555555555556,
              "#d8576b"
             ],
             [
              0.6666666666666666,
              "#ed7953"
             ],
             [
              0.7777777777777778,
              "#fb9f3a"
             ],
             [
              0.8888888888888888,
              "#fdca26"
             ],
             [
              1,
              "#f0f921"
             ]
            ],
            "type": "contour"
           }
          ],
          "contourcarpet": [
           {
            "colorbar": {
             "outlinewidth": 0,
             "ticks": ""
            },
            "type": "contourcarpet"
           }
          ],
          "heatmap": [
           {
            "colorbar": {
             "outlinewidth": 0,
             "ticks": ""
            },
            "colorscale": [
             [
              0,
              "#0d0887"
             ],
             [
              0.1111111111111111,
              "#46039f"
             ],
             [
              0.2222222222222222,
              "#7201a8"
             ],
             [
              0.3333333333333333,
              "#9c179e"
             ],
             [
              0.4444444444444444,
              "#bd3786"
             ],
             [
              0.5555555555555556,
              "#d8576b"
             ],
             [
              0.6666666666666666,
              "#ed7953"
             ],
             [
              0.7777777777777778,
              "#fb9f3a"
             ],
             [
              0.8888888888888888,
              "#fdca26"
             ],
             [
              1,
              "#f0f921"
             ]
            ],
            "type": "heatmap"
           }
          ],
          "histogram": [
           {
            "marker": {
             "pattern": {
              "fillmode": "overlay",
              "size": 10,
              "solidity": 0.2
             }
            },
            "type": "histogram"
           }
          ],
          "histogram2d": [
           {
            "colorbar": {
             "outlinewidth": 0,
             "ticks": ""
            },
            "colorscale": [
             [
              0,
              "#0d0887"
             ],
             [
              0.1111111111111111,
              "#46039f"
             ],
             [
              0.2222222222222222,
              "#7201a8"
             ],
             [
              0.3333333333333333,
              "#9c179e"
             ],
             [
              0.4444444444444444,
              "#bd3786"
             ],
             [
              0.5555555555555556,
              "#d8576b"
             ],
             [
              0.6666666666666666,
              "#ed7953"
             ],
             [
              0.7777777777777778,
              "#fb9f3a"
             ],
             [
              0.8888888888888888,
              "#fdca26"
             ],
             [
              1,
              "#f0f921"
             ]
            ],
            "type": "histogram2d"
           }
          ],
          "histogram2dcontour": [
           {
            "colorbar": {
             "outlinewidth": 0,
             "ticks": ""
            },
            "colorscale": [
             [
              0,
              "#0d0887"
             ],
             [
              0.1111111111111111,
              "#46039f"
             ],
             [
              0.2222222222222222,
              "#7201a8"
             ],
             [
              0.3333333333333333,
              "#9c179e"
             ],
             [
              0.4444444444444444,
              "#bd3786"
             ],
             [
              0.5555555555555556,
              "#d8576b"
             ],
             [
              0.6666666666666666,
              "#ed7953"
             ],
             [
              0.7777777777777778,
              "#fb9f3a"
             ],
             [
              0.8888888888888888,
              "#fdca26"
             ],
             [
              1,
              "#f0f921"
             ]
            ],
            "type": "histogram2dcontour"
           }
          ],
          "mesh3d": [
           {
            "colorbar": {
             "outlinewidth": 0,
             "ticks": ""
            },
            "type": "mesh3d"
           }
          ],
          "parcoords": [
           {
            "line": {
             "colorbar": {
              "outlinewidth": 0,
              "ticks": ""
             }
            },
            "type": "parcoords"
           }
          ],
          "pie": [
           {
            "automargin": true,
            "type": "pie"
           }
          ],
          "scatter": [
           {
            "fillpattern": {
             "fillmode": "overlay",
             "size": 10,
             "solidity": 0.2
            },
            "type": "scatter"
           }
          ],
          "scatter3d": [
           {
            "line": {
             "colorbar": {
              "outlinewidth": 0,
              "ticks": ""
             }
            },
            "marker": {
             "colorbar": {
              "outlinewidth": 0,
              "ticks": ""
             }
            },
            "type": "scatter3d"
           }
          ],
          "scattercarpet": [
           {
            "marker": {
             "colorbar": {
              "outlinewidth": 0,
              "ticks": ""
             }
            },
            "type": "scattercarpet"
           }
          ],
          "scattergeo": [
           {
            "marker": {
             "colorbar": {
              "outlinewidth": 0,
              "ticks": ""
             }
            },
            "type": "scattergeo"
           }
          ],
          "scattergl": [
           {
            "marker": {
             "colorbar": {
              "outlinewidth": 0,
              "ticks": ""
             }
            },
            "type": "scattergl"
           }
          ],
          "scattermap": [
           {
            "marker": {
             "colorbar": {
              "outlinewidth": 0,
              "ticks": ""
             }
            },
            "type": "scattermap"
           }
          ],
          "scattermapbox": [
           {
            "marker": {
             "colorbar": {
              "outlinewidth": 0,
              "ticks": ""
             }
            },
            "type": "scattermapbox"
           }
          ],
          "scatterpolar": [
           {
            "marker": {
             "colorbar": {
              "outlinewidth": 0,
              "ticks": ""
             }
            },
            "type": "scatterpolar"
           }
          ],
          "scatterpolargl": [
           {
            "marker": {
             "colorbar": {
              "outlinewidth": 0,
              "ticks": ""
             }
            },
            "type": "scatterpolargl"
           }
          ],
          "scatterternary": [
           {
            "marker": {
             "colorbar": {
              "outlinewidth": 0,
              "ticks": ""
             }
            },
            "type": "scatterternary"
           }
          ],
          "surface": [
           {
            "colorbar": {
             "outlinewidth": 0,
             "ticks": ""
            },
            "colorscale": [
             [
              0,
              "#0d0887"
             ],
             [
              0.1111111111111111,
              "#46039f"
             ],
             [
              0.2222222222222222,
              "#7201a8"
             ],
             [
              0.3333333333333333,
              "#9c179e"
             ],
             [
              0.4444444444444444,
              "#bd3786"
             ],
             [
              0.5555555555555556,
              "#d8576b"
             ],
             [
              0.6666666666666666,
              "#ed7953"
             ],
             [
              0.7777777777777778,
              "#fb9f3a"
             ],
             [
              0.8888888888888888,
              "#fdca26"
             ],
             [
              1,
              "#f0f921"
             ]
            ],
            "type": "surface"
           }
          ],
          "table": [
           {
            "cells": {
             "fill": {
              "color": "#EBF0F8"
             },
             "line": {
              "color": "white"
             }
            },
            "header": {
             "fill": {
              "color": "#C8D4E3"
             },
             "line": {
              "color": "white"
             }
            },
            "type": "table"
           }
          ]
         },
         "layout": {
          "annotationdefaults": {
           "arrowcolor": "#2a3f5f",
           "arrowhead": 0,
           "arrowwidth": 1
          },
          "autotypenumbers": "strict",
          "coloraxis": {
           "colorbar": {
            "outlinewidth": 0,
            "ticks": ""
           }
          },
          "colorscale": {
           "diverging": [
            [
             0,
             "#8e0152"
            ],
            [
             0.1,
             "#c51b7d"
            ],
            [
             0.2,
             "#de77ae"
            ],
            [
             0.3,
             "#f1b6da"
            ],
            [
             0.4,
             "#fde0ef"
            ],
            [
             0.5,
             "#f7f7f7"
            ],
            [
             0.6,
             "#e6f5d0"
            ],
            [
             0.7,
             "#b8e186"
            ],
            [
             0.8,
             "#7fbc41"
            ],
            [
             0.9,
             "#4d9221"
            ],
            [
             1,
             "#276419"
            ]
           ],
           "sequential": [
            [
             0,
             "#0d0887"
            ],
            [
             0.1111111111111111,
             "#46039f"
            ],
            [
             0.2222222222222222,
             "#7201a8"
            ],
            [
             0.3333333333333333,
             "#9c179e"
            ],
            [
             0.4444444444444444,
             "#bd3786"
            ],
            [
             0.5555555555555556,
             "#d8576b"
            ],
            [
             0.6666666666666666,
             "#ed7953"
            ],
            [
             0.7777777777777778,
             "#fb9f3a"
            ],
            [
             0.8888888888888888,
             "#fdca26"
            ],
            [
             1,
             "#f0f921"
            ]
           ],
           "sequentialminus": [
            [
             0,
             "#0d0887"
            ],
            [
             0.1111111111111111,
             "#46039f"
            ],
            [
             0.2222222222222222,
             "#7201a8"
            ],
            [
             0.3333333333333333,
             "#9c179e"
            ],
            [
             0.4444444444444444,
             "#bd3786"
            ],
            [
             0.5555555555555556,
             "#d8576b"
            ],
            [
             0.6666666666666666,
             "#ed7953"
            ],
            [
             0.7777777777777778,
             "#fb9f3a"
            ],
            [
             0.8888888888888888,
             "#fdca26"
            ],
            [
             1,
             "#f0f921"
            ]
           ]
          },
          "colorway": [
           "#636efa",
           "#EF553B",
           "#00cc96",
           "#ab63fa",
           "#FFA15A",
           "#19d3f3",
           "#FF6692",
           "#B6E880",
           "#FF97FF",
           "#FECB52"
          ],
          "font": {
           "color": "#2a3f5f"
          },
          "geo": {
           "bgcolor": "white",
           "lakecolor": "white",
           "landcolor": "#E5ECF6",
           "showlakes": true,
           "showland": true,
           "subunitcolor": "white"
          },
          "hoverlabel": {
           "align": "left"
          },
          "hovermode": "closest",
          "mapbox": {
           "style": "light"
          },
          "paper_bgcolor": "white",
          "plot_bgcolor": "#E5ECF6",
          "polar": {
           "angularaxis": {
            "gridcolor": "white",
            "linecolor": "white",
            "ticks": ""
           },
           "bgcolor": "#E5ECF6",
           "radialaxis": {
            "gridcolor": "white",
            "linecolor": "white",
            "ticks": ""
           }
          },
          "scene": {
           "xaxis": {
            "backgroundcolor": "#E5ECF6",
            "gridcolor": "white",
            "gridwidth": 2,
            "linecolor": "white",
            "showbackground": true,
            "ticks": "",
            "zerolinecolor": "white"
           },
           "yaxis": {
            "backgroundcolor": "#E5ECF6",
            "gridcolor": "white",
            "gridwidth": 2,
            "linecolor": "white",
            "showbackground": true,
            "ticks": "",
            "zerolinecolor": "white"
           },
           "zaxis": {
            "backgroundcolor": "#E5ECF6",
            "gridcolor": "white",
            "gridwidth": 2,
            "linecolor": "white",
            "showbackground": true,
            "ticks": "",
            "zerolinecolor": "white"
           }
          },
          "shapedefaults": {
           "line": {
            "color": "#2a3f5f"
           }
          },
          "ternary": {
           "aaxis": {
            "gridcolor": "white",
            "linecolor": "white",
            "ticks": ""
           },
           "baxis": {
            "gridcolor": "white",
            "linecolor": "white",
            "ticks": ""
           },
           "bgcolor": "#E5ECF6",
           "caxis": {
            "gridcolor": "white",
            "linecolor": "white",
            "ticks": ""
           }
          },
          "title": {
           "x": 0.05
          },
          "xaxis": {
           "automargin": true,
           "gridcolor": "white",
           "linecolor": "white",
           "ticks": "",
           "title": {
            "standoff": 15
           },
           "zerolinecolor": "white",
           "zerolinewidth": 2
          },
          "yaxis": {
           "automargin": true,
           "gridcolor": "white",
           "linecolor": "white",
           "ticks": "",
           "title": {
            "standoff": 15
           },
           "zerolinecolor": "white",
           "zerolinewidth": 2
          }
         }
        },
        "title": {
         "text": "Movies vs TV Shows by Country (Top 10 Countries)"
        },
        "xaxis": {
         "anchor": "y",
         "domain": [
          0,
          1
         ],
         "tickangle": -45,
         "title": {
          "text": "Country"
         }
        },
        "yaxis": {
         "anchor": "x",
         "domain": [
          0,
          1
         ],
         "title": {
          "text": "Count"
         }
        }
       }
      },
      "image/png": "[encoded data removed]"
     },
     "metadata": {},
     "output_type": "display_data"
    }
   ],
   "source": [
    "top_countries = df['Country'].value_counts().head(10).index\n",
    "country_data = df[df['Country'].isin(top_countries)]\n",
    "stacked = country_data.groupby(['Country', 'Category']).size().reset_index(name='Count')\n",
    "fig3 = px.bar(stacked, x='Country', y='Count', color='Category', \n",
    "              title=\"Movies vs TV Shows by Country (Top 10 Countries)\",\n",
    "              text='Count', barmode='stack', color_discrete_sequence=px.colors.qualitative.Set2)\n",
    "fig3.update_layout(xaxis_tickangle=-45)\n",
    "fig3.show()"
   ]
  },
  {
   "cell_type": "code",
   "execution_count": 10,
   "id": "4d5dca5d-8107-4c1e-ab0e-08c69f358b39",
   "metadata": {},
   "outputs": [
    {
     "name": "stderr",
     "output_type": "stream",
     "text": [
      "C:\\Users\\vsrau\\AppData\\Local\\Temp\\ipykernel_14216\\3711616206.py:3: DeprecationWarning:\n",
      "\n",
      "The library used by the *country names* `locationmode` option is changing in an upcoming version. Country names in existing plots may not work in the new version. To ensure consistent behavior, consider setting `locationmode` to *ISO-3*.\n",
      "\n"
     ]
    },
    {
     "data": {
      "application/vnd.plotly.v1+json": {
       "config": {
        "plotlyServerURL": "https://plot.ly"
       },
       "data": [
        {
         "coloraxis": "coloraxis",
         "geo": "geo",
         "hovertemplate": "<b>%{hovertext}</b><br><br>Country=%{location}<br>Count=%{z}<extra></extra>",
         "hovertext": [
          "United States",
          "India",
          "Unknown",
          "United Kingdom",
          "Japan",
          "South Korea",
          "Canada",
          "Spain",
          "France",
          "Egypt",
          "Turkey",
          "Mexico",
          "Australia",
          "Taiwan",
          "Brazil",
          "Nigeria",
          "Philippines",
          "Indonesia",
          "United Kingdom, United States",
          "Germany",
          "United States, Canada",
          "China",
          "Thailand",
          "Hong Kong",
          "Argentina",
          "Canada, United States",
          "Italy",
          "United States, United Kingdom",
          "Colombia",
          "France, Belgium",
          "South Africa",
          "Singapore",
          "Malaysia",
          "Poland",
          "Pakistan",
          "Russia",
          "Hong Kong, China",
          "Netherlands",
          "United States, France",
          "Chile",
          "Lebanon",
          "Mexico, United States",
          "China, Hong Kong",
          "United States, Japan",
          "Denmark",
          "United States, Germany",
          "United Arab Emirates",
          "Israel",
          "United States, Mexico",
          "New Zealand",
          "Ireland",
          "United States, Australia",
          "Norway",
          "Germany, United States",
          "Sweden",
          "Australia, United States",
          "India, United States",
          "Japan, United States",
          "United States, India",
          "Belgium",
          "Argentina, Spain",
          "Saudi Arabia",
          "United States, China",
          "Romania",
          "France, United States",
          "United Kingdom, France",
          "United Kingdom, Canada, United States",
          "Kuwait",
          "United States, France, Japan",
          "Italy, France",
          "Spain, France",
          "United States, Italy",
          "Vietnam",
          "India, France",
          "South Korea, United States",
          "United States, Czech Republic",
          "Mexico, Spain",
          "United States, Spain",
          "South Africa, United States",
          "United Kingdom, Canada",
          "Hungary",
          "United Kingdom, France, United States",
          "Austria",
          "United Kingdom, Germany",
          "Iceland",
          "Hong Kong, United States",
          "United Kingdom, United States, Spain, Germany, Greece, Canada",
          "United Kingdom, Japan, United States",
          "United States, United Kingdom, Australia",
          "Poland, United States",
          "Peru",
          "United States, Russia",
          "Bulgaria, United States",
          "Spain, Germany",
          "United States, Bulgaria",
          "United States, New Zealand",
          "United States, Hong Kong",
          "Israel, United States",
          "United States, United Kingdom, France",
          "United States, South Africa",
          "Italy, United States",
          "Canada, United States, United Kingdom",
          "Ghana",
          "Uruguay",
          "France, Egypt",
          "Denmark, United States",
          "Sweden, United States",
          "France, Canada",
          "United States, United Arab Emirates",
          "Belgium, France",
          "United States, Ireland",
          "France, United Kingdom, United States",
          "United States, Sweden",
          "Egypt, France",
          "New Zealand, United States",
          "United Kingdom, Nigeria",
          "France, South Korea, Japan",
          "Canada, United Kingdom, United States",
          "Switzerland",
          "Kenya",
          "Canada, Australia",
          "Spain, Argentina",
          "United Kingdom, India, United States",
          "Spain, Mexico",
          "Turkey, United States",
          "United States, Greece",
          "China, Canada, United States",
          "United States, Chile",
          "Canada, India",
          "United Arab Emirates, United States",
          "Australia, United Arab Emirates",
          "India, Soviet Union",
          "Ukraine",
          "Singapore, United States",
          "United States, United Kingdom, Germany",
          "Canada, United States, France",
          "United States, Canada, United Kingdom",
          "United States, Argentina",
          "United States, Japan, Canada",
          "Bangladesh",
          "Spain, United Kingdom",
          "India, Germany",
          "Ireland, United Kingdom, United States",
          "United States, Germany, Canada",
          "Colombia, Mexico, United States",
          "Spain, Italy",
          "Germany, United Kingdom",
          "United Kingdom, Italy",
          "Serbia, United States",
          "Pakistan, United States",
          "Ireland, United Kingdom",
          "Czech Republic, United States",
          "United Kingdom, Ireland",
          "Australia, Canada",
          "Netherlands, Belgium",
          "Hong Kong, China, United States",
          "Brazil, France",
          "Thailand, United States",
          "United States, South Korea, China",
          "Canada, United Kingdom",
          "China, United States",
          "United Kingdom, India",
          "Indonesia, Singapore",
          "United Kingdom, United States, Australia",
          "Lebanon, Canada, France",
          "Sweden, Czech Republic, United Kingdom, Denmark, Netherlands",
          "Norway, Iceland, United States",
          "France, Brazil, Spain, Belgium",
          "United States, Brazil, India, Uganda, China",
          "United Kingdom, Ireland, United States",
          "Romania, United Kingdom",
          "United Kingdom, Germany, France, United States",
          "Belgium, Netherlands",
          "Switzerland, United Kingdom, United States",
          "United Kingdom, Jordan, Qatar, Iran",
          "France, Lebanon, United Kingdom",
          "United States, Brazil, South Korea, Mexico, Japan, Germany",
          "Canada, United States, India, United Kingdom",
          "United Kingdom, South Africa, Australia, United States",
          "United Kingdom, Namibia, South Africa, Zimbabwe, United States",
          "Thailand, China, United States",
          "United Kingdom, Brazil, Germany",
          "United Kingdom, China, United States",
          "United Kingdom, United States, Czech Republic",
          "Canada, Japan, Netherlands",
          "United Kingdom, Canada, Japan",
          "Taiwan, China, France, United States",
          "United States, Canada, France",
          "United States, India, Bangladesh",
          "Canada, United States, Cayman Islands",
          "Germany, Sri Lanka",
          "China, Germany, India, United States",
          "United States, Australia, China",
          "United Kingdom, Czech Republic, United States, Germany, Bahamas",
          "France, New Zealand",
          "United Kingdom, Pakistan",
          "France, Malta, United States",
          "Philippines, Canada, United Kingdom, United States",
          "South Korea, Japan",
          "Netherlands, Denmark, France, Germany",
          "United Kingdom, China",
          "United States, Israel, Italy, South Africa",
          "United Kingdom, Australia",
          "Canada, Brazil",
          "Taiwan, Hong Kong, United States, China",
          "United Kingdom, France, Germany, Spain",
          "Zimbabwe",
          "Czech Republic, France",
          "United Kingdom, Canada, Italy",
          "Germany, France, Luxembourg, United Kingdom, United States",
          "Italy, United States, Argentina",
          "Mexico, Argentina",
          "France, Germany, Switzerland",
          "Germany, United States, Hong Kong, Singapore",
          "Australia, New Zealand, United States",
          "Turkey, France, Germany, Poland",
          "United States,",
          "Brazil, France, Germany",
          "Russia, United States",
          "Saudi Arabia, Syria, Egypt, Lebanon, Kuwait",
          "Ireland, Luxembourg, Belgium",
          "France, Algeria",
          "France, Qatar",
          "South Africa, United States, New Zealand, Canada",
          "Finland, Sweden, Norway, Latvia, Germany",
          "United Kingdom, South Africa",
          "Denmark, Zimbabwe",
          "Spain, Belgium, Switzerland, United States, China, United Kingdom",
          "United States, Thailand",
          "Finland, Germany",
          "Philippines, United States",
          "Bulgaria",
          "United Kingdom, Poland, United States",
          "Germany, Australia",
          "Chile, Argentina",
          "Germany, Belgium",
          "France, China, Japan, United States",
          "Russia, Poland, Serbia",
          "United Kingdom, Czech Republic, Germany, United States",
          "United States, Australia, Mexico",
          "Denmark, France, Belgium, Italy, Netherlands, United States, United Kingdom",
          "United States, Italy, United Kingdom, Liechtenstein",
          "Norway, Germany, Sweden",
          "United Arab Emirates, United Kingdom, India",
          "United States, Iceland",
          "Denmark, Sweden, Israel, United States",
          "France, Belgium, Spain",
          "Argentina, United States",
          "Germany, Jordan, Netherlands",
          "United Kingdom, Russia, United States",
          "Spain, France, United States",
          "Spain, France, Italy",
          "Spain, Mexico, France",
          "United States, Indonesia",
          "France, Canada, China, Cambodia",
          "Canada, Spain, France",
          "Canada, France, Italy, Morocco, United States",
          "Brazil, United States",
          "Colombia, Peru, United Kingdom",
          "United States, Mexico, Colombia",
          "Argentina, Uruguay, Serbia",
          "Venezuela",
          "United States, Canada, Belgium, United Kingdom",
          "Philippines, Singapore",
          "Pakistan, Norway, United States",
          "China, United States, United Kingdom",
          "United States, Brazil",
          "Spain, Cuba",
          "Italy, Switzerland, Albania, Poland",
          "United Kingdom, Israel, Russia",
          "Argentina, Italy",
          "United Arab Emirates, United States, United Kingdom",
          "China, Japan",
          "Cambodia, United States",
          "Philippines, Qatar",
          "Turkey, India",
          "India, Iran",
          "United States, Canada, Indonesia, United Kingdom, China, Singapore",
          "South Korea, China",
          "Uruguay, Spain, Mexico",
          "Mexico, Finland",
          "United States, France, Canada",
          "United States, United Kingdom, Italy",
          "United States, United Kingdom, Denmark, Sweden",
          "United States, France, United Kingdom, Japan",
          "Italy, Germany",
          "United Kingdom, Canada, United States, Cayman Islands",
          "United Kingdom, Denmark, Canada, Croatia",
          "Italy, Canada, France",
          "United States, South Korea",
          "Kenya, United States",
          "India, Turkey",
          "Italy, Turkey",
          "France, Belgium, Luxembourg, Cambodia,",
          "United Arab Emirates, Jordan, Lebanon",
          "Austria, Germany",
          "United States, Nicaragua",
          "United States, France, Mexico",
          "Ireland, United Kingdom, Italy, United States",
          "Chile, Italy",
          "West Germany",
          "Romania, United States",
          "United States, South Korea, Japan",
          "Lebanon, United Arab Emirates, France, Switzerland, Germany",
          "France, Australia, Germany",
          "Ireland, United States",
          "United States, Canada, Germany",
          "Russia, United States, China",
          "Italy, Switzerland, France, Germany",
          "United States, United Kingdom, Canada",
          "United States, United Kingdom, Japan",
          "Germany, Australia, France, China",
          "Uruguay, Guatemala",
          "United States, France, Canada, Spain",
          "Bulgaria, United States, Spain, Canada",
          "Romania, France, Switzerland, Germany",
          "Canada, France",
          "France, Senegal, Belgium",
          "United Kingdom, United States, Dominican Republic",
          "Canada, Ireland, United States",
          "United Kingdom, France, Belgium",
          "China, South Korea, United States",
          "Switzerland, France, Belgium, United States",
          "India, Japan",
          "United States, Spain, Germany",
          "Indonesia, United Kingdom",
          "United Kingdom, United States, France",
          "Canada, United Kingdom, Netherlands",
          "Slovenia, Croatia, Germany, Czech Republic, Qatar",
          "Poland,",
          "Cambodia",
          "Taiwan, China",
          "Finland, Germany, Belgium",
          "Canada, United States, United Kingdom, France, Luxembourg",
          "South Africa, Germany, Netherlands, France",
          "Argentina, France",
          "United Kingdom, Germany, Canada",
          "Germany, United Kingdom, United States",
          "United States, Senegal",
          "Namibia",
          "Norway, Denmark, Netherlands, Sweden",
          "Australia, Armenia, Japan, Jordan, Mexico, Mongolia, New Zealand, Philippines, South Africa, Sweden, United States, Uruguay",
          "Japan, Canada, United States",
          "Australia, United Kingdom, United Arab Emirates, Canada",
          "France, United States, Mexico",
          "Sweden, Netherlands",
          "Canada, Nigeria",
          "Mexico, United States, Spain, Colombia",
          "China, India, Nepal",
          "Norway, Denmark, Sweden",
          "United Kingdom, Norway, Denmark, Germany, Sweden",
          "United States, Chile, Israel",
          "France, Belgium, China, United States",
          "China, United States, Australia",
          "Netherlands, Belgium, United Kingdom, United States",
          "Indonesia, Netherlands",
          "United States, France, Canada, Lebanon, Qatar",
          "United Kingdom, Germany, Canada, United States",
          "Germany, United States, Canada",
          "Jordan",
          "Ireland, United States, France",
          "Spain, Portugal",
          "Denmark, Singapore, Canada, United States",
          "Netherlands, Belgium, Germany, Jordan",
          "United States, Taiwan",
          "United Kingdom, South Korea",
          "Nigeria, United Kingdom",
          "United Kingdom, Belgium, Sweden",
          "Indonesia, South Korea, Singapore",
          "India, United Kingdom, China, Canada, Japan, South Korea, United States",
          "France, Canada, Belgium",
          "Brazil, Netherlands, United States, Colombia, Austria, Germany",
          "United Kingdom, Canada, United States, Germany",
          "Spain, Belgium",
          "China, Spain, South Korea, United States",
          "Finland",
          "Ireland, Canada",
          "Iceland, Sweden, Belgium",
          "United States, China, Hong Kong",
          "Turkey, Azerbaijan",
          "Uruguay, Germany",
          "Argentina, Chile, Peru",
          "China, United Kingdom",
          "Canada, South Africa",
          "United States, Australia, Samoa, United Kingdom",
          "Canada, Luxembourg",
          "United Kingdom, France, Germany",
          "Soviet Union, India",
          "South Korea, France",
          "United States, Greece, Brazil",
          "United States, Philippines",
          "Norway, United States",
          "Malaysia, Singapore, Hong Kong",
          "Denmark, China",
          "United States, Bermuda, Ecuador",
          "Norway, United Kingdom, France, Ireland",
          "United States, Spain, Italy",
          "United States, China, Colombia",
          "United States, Cambodia",
          "Netherlands, Germany, Italy, Canada",
          "France, Japan",
          "United Kingdom, France, Belgium, United States",
          "Canada, Spain",
          "Germany, United States, Sweden",
          "Poland, West Germany",
          "Italy, United Kingdom, France",
          "China, Taiwan",
          "France, United Kingdom, India",
          "Argentina, United States, Mexico",
          "Canada, Germany, France, United States",
          "Germany, United States, France",
          "United States, Nigeria",
          "Puerto Rico, United States, Colombia",
          "Chile, Argentina, France, Spain, United States",
          "United States, Colombia, Mexico",
          "United States, Botswana",
          "Italy, India",
          "Turkey, South Korea",
          "Switzerland, France",
          "Georgia, Germany, France",
          "France, Morocco",
          "Chile, United States, France",
          "Israel, Sweden, Germany, Netherlands",
          "United Kingdom, West Germany",
          "India, Mexico",
          "United Kingdom, Poland",
          "Singapore, France",
          "Denmark, France, United States, Sweden",
          "India, Germany, Austria",
          "Brazil, India, China, United States",
          "Denmark, Brazil, France, Portugal, Sweden",
          "Germany, Czech Republic",
          "United Kingdom, Singapore",
          "United States, Ireland, United Kingdom, India",
          "Norway, Sweden",
          "France, Switzerland, Spain, United States, United Arab Emirates",
          "Denmark, Germany, Belgium, United Kingdom, France, Sweden",
          "Denmark, Germany, Belgium, United Kingdom, France",
          "United States, India, South Korea, China",
          "Netherlands, United States",
          "United Kingdom, United States, Japan",
          "Spain, Germany, Denmark, United States",
          "India, Nepal",
          "France, Luxembourg, Canada",
          "Venezuela, Colombia",
          "United Kingdom, Thailand",
          "France, Belgium, Italy",
          "Canada, United States, Germany",
          "Spain, Colombia",
          "China, Morocco, Hong Kong",
          "Australia, Iraq",
          "Egypt, Algeria",
          "Uruguay, Argentina",
          "Mauritius, South Africa",
          "Germany, France, Russia",
          "Hong Kong, Iceland, United States",
          "Australia, France",
          "United Kingdom, United States, France, Germany",
          "United States, Netherlands, Japan, France",
          "United States, New Zealand, Japan",
          "France, Japan, United States",
          "Portugal, France, Poland, United States",
          "Switzerland, Vatican City, Italy, Germany, France",
          "Canada, United States, Ireland",
          "United States, Norway, Canada",
          "United Kingdom, Kenya",
          "Spain, United Kingdom, United States",
          "France, United Kingdom",
          "Pakistan, United Arab Emirates",
          "Canada, Hungary, United States",
          "Germany, China, United Kingdom",
          "France, Germany, Czech Republic, Belgium",
          "Colombia, Mexico",
          "Colombia, United States",
          "United States, Germany, Australia",
          "Ireland, Canada, United Kingdom, United States",
          "India, Canada",
          "United States, Uruguay",
          "Singapore, Malaysia",
          "Peru, Germany, Norway",
          "Germany, France, United States, Canada, United Kingdom",
          "United Kingdom, United States, Canada",
          "Canada, Mexico, Germany, South Africa",
          "Singapore, Japan, France",
          "South Korea, Canada, United States, China",
          "Norway, Denmark",
          "United States, Mexico, Spain, Malta",
          "United States, Morocco",
          "Canada, Japan, United States",
          "India, Switzerland",
          "South Africa, United States, Germany",
          "United Kingdom, Finland, Germany",
          "Italy, South Africa, West Germany, Australia, United States",
          "United States, United Kingdom, Canada, China",
          "Guatemala",
          "South Korea, China, United States",
          "United States, United Kingdom, Spain, South Korea",
          "Hong Kong, Taiwan",
          "Sweden, United Kingdom, Finland",
          "United States, United Kingdom, Canada, Japan",
          "Australia, India",
          "Austria, Czech Republic",
          "South Africa, Angola",
          "Australia, France, Ireland",
          "Israel, Germany, France",
          "Senegal",
          "United Kingdom, New Zealand",
          "China, Hong Kong, United States",
          "Thailand, Canada, United States",
          "Switzerland, United States",
          "India, Malaysia",
          "United States, Colombia",
          "Canada, France, United States",
          "Italy, France, Switzerland",
          "Uruguay, Argentina, Spain",
          "Argentina, Brazil, France, Poland, Germany, Denmark",
          "United Kingdom, France, Belgium, United States, China",
          "Iran, France",
          "United Kingdom, Hong Kong",
          "United Kingdom, Spain, United States",
          "France, Netherlands, Singapore",
          "United States, Germany, United Kingdom, Australia",
          "United States, Kazakhstan",
          "Lebanon, United States, United Arab Emirates",
          "Cyprus",
          "Belarus",
          "Denmark, United Kingdom, Sweden",
          "United Kingdom, France, Canada, Belgium, United States",
          "United States, Denmark",
          "Australia, United Kingdom",
          "France, United States, Canada",
          "Australia, United Kingdom, United States, New Zealand, Italy, France",
          "Jamaica, United States",
          "United States, Hungary",
          "Australia, United Kingdom, Canada",
          "Czech Republic, United Kingdom, France",
          "South Korea, Czech Republic",
          "United Kingdom, France, Germany, United States",
          "United Kingdom, Malawi",
          "United States, Canada, China",
          "United States, Hungary, Ireland, Canada",
          "Canada, Norway",
          "United States, United Kingdom, France, Germany, Japan",
          "Chile, France",
          "France, Canada, United States",
          "France, Belgium, United States",
          "Spain, France, Uruguay",
          "Netherlands, Denmark, South Africa",
          "New Zealand, United Kingdom",
          "Finland, United States",
          "United States, New Zealand, United Kingdom",
          "United States, Germany, United Kingdom, Italy",
          "United States, Germany, United Kingdom",
          "Argentina, France, United States, Germany, Qatar",
          "Czech Republic, Slovakia",
          "Argentina, Chile",
          "United Kingdom, France, Belgium, Canada, United States",
          "Greece, United States",
          "Austria, United States",
          "United Kingdom, United States, Germany, Denmark, Belgium, Japan",
          "United States, Malta, France, United Kingdom",
          "France, Germany",
          "Israel, Germany, Poland, Luxembourg, Belgium, France, United States",
          "France, Belgium, Luxembourg, Romania, Canada, United States",
          "Brazil, United Kingdom",
          "Mexico, France",
          "Israel, Germany",
          "Ghana, United States",
          "United States, Czech Republic, United Kingdom",
          "Ireland, Canada, Luxembourg, United States, United Kingdom, Philippines, India",
          "Canada, Germany, South Africa",
          "Spain, Thailand, United States",
          "United Kingdom, Canada, France, United States",
          "United States, India, United Arab Emirates",
          "Canada, Belgium",
          "Spain, Canada, United States",
          "United States, China, Canada",
          "United States, United Kingdom, Morocco",
          "United Kingdom, United States, Morocco",
          "United States, Sweden, Norway",
          "Taiwan, Malaysia",
          "United Kingdom, China, United States, India",
          "United States, Greece, United Kingdom",
          "Spain, France, Canada",
          "United Kingdom, Lithuania",
          "United Kingdom, Germany, United States, France",
          "United Kingdom, Germany, United States",
          "Argentina, Uruguay, Spain, France",
          "Denmark, Indonesia, Finland, Norway, United Kingdom, Israel, France, United States, Germany, Netherlands",
          "Ireland, United Kingdom, Greece, France, Netherlands",
          "France, Lebanon",
          "Netherlands, Germany, Denmark, United Kingdom",
          "France, Canada, Italy, United States, China",
          "Norway, Germany",
          "United Kingdom, Italy, Israel, Peru, United States",
          "Paraguay, Argentina",
          "Chile, Peru",
          "Belgium, Ireland, Netherlands, Germany, Afghanistan",
          "Lebanon, France",
          "United Kingdom, Hungary, Australia",
          "United States, Israel, United Kingdom, Canada",
          "India, Germany, France",
          "Canada, South Korea, United States",
          "Indonesia, United States",
          "Spain, Switzerland",
          "Australia, New Zealand",
          "Belgium, United Kingdom, United States",
          "Germany, Italy",
          "Chile, Spain, Argentina, Germany",
          "United States, Germany, Mexico",
          "Italy, Belgium",
          "Denmark, France, Poland",
          "United States, France, Serbia",
          "South Africa, China, United States",
          "Hong Kong, China, Singapore",
          "Portugal, Spain",
          "South Africa, Nigeria",
          "United States, Australia, South Africa, United Kingdom",
          "United States, France, Canada, Belgium",
          "United States, Belgium, Canada",
          "India, United Kingdom, Canada, United States",
          "Spain, France, Canada, United States",
          "Canada, Germany",
          "Ireland, South Africa",
          "Germany, Canada, United States",
          "Denmark, United Kingdom, South Africa, Sweden, Belgium",
          "Serbia, South Korea, Slovenia",
          "United Kingdom, Spain, Belgium",
          "United States, Canada, Japan, Panama",
          "Spain, United States",
          "Ireland, France, Iceland, United States, Mexico, Belgium, United Kingdom, Hong Kong",
          "Somalia, Kenya, Sudan, South Africa, United States",
          "Croatia",
          "France, Iran, United States",
          "United States, Venezuela",
          "Germany, United States, Italy",
          "Spain, Italy, Argentina",
          "Mexico, Netherlands",
          "United Kingdom, Australia, Canada, United States",
          "United Arab Emirates, Romania",
          "United States, Poland",
          "New Zealand, United Kingdom, Australia",
          "Ireland, Canada, United States, United Kingdom",
          "United States, United Kingdom, India",
          "Georgia",
          "United States, France, Italy, United Kingdom",
          "United Kingdom, Spain, United States, Germany",
          "United Kingdom, France, United States, Belgium, Luxembourg, China, Germany",
          "United Kingdom, Germany, United Arab Emirates, New Zealand",
          "United Kingdom, Egypt, United States",
          "India, Australia",
          "United Arab Emirates, Jordan",
          "United States, France, South Korea, Indonesia",
          "Japan, Canada",
          "Croatia, Slovenia, Serbia, Montenegro",
          "Russia, Spain",
          "Egypt, Austria, United States",
          "United Kingdom, Ukraine, United States",
          "France, Netherlands, South Africa, Finland",
          "United States, East Germany, West Germany",
          "Saudi Arabia, Netherlands, Germany, Jordan, United Arab Emirates, United States",
          "United Kingdom,",
          "India, Pakistan",
          "United Kingdom, Belgium",
          "United Kingdom, India, Sweden",
          "Lebanon, Qatar",
          "United States, Canada, Ireland",
          "India, United Kingdom",
          "United Kingdom, Russia",
          "Denmark, Spain",
          "Finland, France",
          "Romania, Bulgaria, Hungary",
          "Canada, India, Thailand, United States, United Arab Emirates",
          "United Kingdom, Spain",
          "France, Luxembourg, United States",
          "Uruguay, Argentina, Germany, Spain",
          "Germany, United States, United Kingdom, Canada",
          "Peru, United States, United Kingdom",
          "Saudi Arabia, United Arab Emirates",
          "United Kingdom, France, United States, Belgium",
          "France, Norway, Lebanon, Belgium",
          "Austria, Iraq, United States"
         ],
         "locationmode": "country names",
         "locations": [
          "United States",
          "India",
          "Unknown",
          "United Kingdom",
          "Japan",
          "South Korea",
          "Canada",
          "Spain",
          "France",
          "Egypt",
          "Turkey",
          "Mexico",
          "Australia",
          "Taiwan",
          "Brazil",
          "Nigeria",
          "Philippines",
          "Indonesia",
          "United Kingdom, United States",
          "Germany",
          "United States, Canada",
          "China",
          "Thailand",
          "Hong Kong",
          "Argentina",
          "Canada, United States",
          "Italy",
          "United States, United Kingdom",
          "Colombia",
          "France, Belgium",
          "South Africa",
          "Singapore",
          "Malaysia",
          "Poland",
          "Pakistan",
          "Russia",
          "Hong Kong, China",
          "Netherlands",
          "United States, France",
          "Chile",
          "Lebanon",
          "Mexico, United States",
          "China, Hong Kong",
          "United States, Japan",
          "Denmark",
          "United States, Germany",
          "United Arab Emirates",
          "Israel",
          "United States, Mexico",
          "New Zealand",
          "Ireland",
          "United States, Australia",
          "Norway",
          "Germany, United States",
          "Sweden",
          "Australia, United States",
          "India, United States",
          "Japan, United States",
          "United States, India",
          "Belgium",
          "Argentina, Spain",
          "Saudi Arabia",
          "United States, China",
          "Romania",
          "France, United States",
          "United Kingdom, France",
          "United Kingdom, Canada, United States",
          "Kuwait",
          "United States, France, Japan",
          "Italy, France",
          "Spain, France",
          "United States, Italy",
          "Vietnam",
          "India, France",
          "South Korea, United States",
          "United States, Czech Republic",
          "Mexico, Spain",
          "United States, Spain",
          "South Africa, United States",
          "United Kingdom, Canada",
          "Hungary",
          "United Kingdom, France, United States",
          "Austria",
          "United Kingdom, Germany",
          "Iceland",
          "Hong Kong, United States",
          "United Kingdom, United States, Spain, Germany, Greece, Canada",
          "United Kingdom, Japan, United States",
          "United States, United Kingdom, Australia",
          "Poland, United States",
          "Peru",
          "United States, Russia",
          "Bulgaria, United States",
          "Spain, Germany",
          "United States, Bulgaria",
          "United States, New Zealand",
          "United States, Hong Kong",
          "Israel, United States",
          "United States, United Kingdom, France",
          "United States, South Africa",
          "Italy, United States",
          "Canada, United States, United Kingdom",
          "Ghana",
          "Uruguay",
          "France, Egypt",
          "Denmark, United States",
          "Sweden, United States",
          "France, Canada",
          "United States, United Arab Emirates",
          "Belgium, France",
          "United States, Ireland",
          "France, United Kingdom, United States",
          "United States, Sweden",
          "Egypt, France",
          "New Zealand, United States",
          "United Kingdom, Nigeria",
          "France, South Korea, Japan",
          "Canada, United Kingdom, United States",
          "Switzerland",
          "Kenya",
          "Canada, Australia",
          "Spain, Argentina",
          "United Kingdom, India, United States",
          "Spain, Mexico",
          "Turkey, United States",
          "United States, Greece",
          "China, Canada, United States",
          "United States, Chile",
          "Canada, India",
          "United Arab Emirates, United States",
          "Australia, United Arab Emirates",
          "India, Soviet Union",
          "Ukraine",
          "Singapore, United States",
          "United States, United Kingdom, Germany",
          "Canada, United States, France",
          "United States, Canada, United Kingdom",
          "United States, Argentina",
          "United States, Japan, Canada",
          "Bangladesh",
          "Spain, United Kingdom",
          "India, Germany",
          "Ireland, United Kingdom, United States",
          "United States, Germany, Canada",
          "Colombia, Mexico, United States",
          "Spain, Italy",
          "Germany, United Kingdom",
          "United Kingdom, Italy",
          "Serbia, United States",
          "Pakistan, United States",
          "Ireland, United Kingdom",
          "Czech Republic, United States",
          "United Kingdom, Ireland",
          "Australia, Canada",
          "Netherlands, Belgium",
          "Hong Kong, China, United States",
          "Brazil, France",
          "Thailand, United States",
          "United States, South Korea, China",
          "Canada, United Kingdom",
          "China, United States",
          "United Kingdom, India",
          "Indonesia, Singapore",
          "United Kingdom, United States, Australia",
          "Lebanon, Canada, France",
          "Sweden, Czech Republic, United Kingdom, Denmark, Netherlands",
          "Norway, Iceland, United States",
          "France, Brazil, Spain, Belgium",
          "United States, Brazil, India, Uganda, China",
          "United Kingdom, Ireland, United States",
          "Romania, United Kingdom",
          "United Kingdom, Germany, France, United States",
          "Belgium, Netherlands",
          "Switzerland, United Kingdom, United States",
          "United Kingdom, Jordan, Qatar, Iran",
          "France, Lebanon, United Kingdom",
          "United States, Brazil, South Korea, Mexico, Japan, Germany",
          "Canada, United States, India, United Kingdom",
          "United Kingdom, South Africa, Australia, United States",
          "United Kingdom, Namibia, South Africa, Zimbabwe, United States",
          "Thailand, China, United States",
          "United Kingdom, Brazil, Germany",
          "United Kingdom, China, United States",
          "United Kingdom, United States, Czech Republic",
          "Canada, Japan, Netherlands",
          "United Kingdom, Canada, Japan",
          "Taiwan, China, France, United States",
          "United States, Canada, France",
          "United States, India, Bangladesh",
          "Canada, United States, Cayman Islands",
          "Germany, Sri Lanka",
          "China, Germany, India, United States",
          "United States, Australia, China",
          "United Kingdom, Czech Republic, United States, Germany, Bahamas",
          "France, New Zealand",
          "United Kingdom, Pakistan",
          "France, Malta, United States",
          "Philippines, Canada, United Kingdom, United States",
          "South Korea, Japan",
          "Netherlands, Denmark, France, Germany",
          "United Kingdom, China",
          "United States, Israel, Italy, South Africa",
          "United Kingdom, Australia",
          "Canada, Brazil",
          "Taiwan, Hong Kong, United States, China",
          "United Kingdom, France, Germany, Spain",
          "Zimbabwe",
          "Czech Republic, France",
          "United Kingdom, Canada, Italy",
          "Germany, France, Luxembourg, United Kingdom, United States",
          "Italy, United States, Argentina",
          "Mexico, Argentina",
          "France, Germany, Switzerland",
          "Germany, United States, Hong Kong, Singapore",
          "Australia, New Zealand, United States",
          "Turkey, France, Germany, Poland",
          "United States,",
          "Brazil, France, Germany",
          "Russia, United States",
          "Saudi Arabia, Syria, Egypt, Lebanon, Kuwait",
          "Ireland, Luxembourg, Belgium",
          "France, Algeria",
          "France, Qatar",
          "South Africa, United States, New Zealand, Canada",
          "Finland, Sweden, Norway, Latvia, Germany",
          "United Kingdom, South Africa",
          "Denmark, Zimbabwe",
          "Spain, Belgium, Switzerland, United States, China, United Kingdom",
          "United States, Thailand",
          "Finland, Germany",
          "Philippines, United States",
          "Bulgaria",
          "United Kingdom, Poland, United States",
          "Germany, Australia",
          "Chile, Argentina",
          "Germany, Belgium",
          "France, China, Japan, United States",
          "Russia, Poland, Serbia",
          "United Kingdom, Czech Republic, Germany, United States",
          "United States, Australia, Mexico",
          "Denmark, France, Belgium, Italy, Netherlands, United States, United Kingdom",
          "United States, Italy, United Kingdom, Liechtenstein",
          "Norway, Germany, Sweden",
          "United Arab Emirates, United Kingdom, India",
          "United States, Iceland",
          "Denmark, Sweden, Israel, United States",
          "France, Belgium, Spain",
          "Argentina, United States",
          "Germany, Jordan, Netherlands",
          "United Kingdom, Russia, United States",
          "Spain, France, United States",
          "Spain, France, Italy",
          "Spain, Mexico, France",
          "United States, Indonesia",
          "France, Canada, China, Cambodia",
          "Canada, Spain, France",
          "Canada, France, Italy, Morocco, United States",
          "Brazil, United States",
          "Colombia, Peru, United Kingdom",
          "United States, Mexico, Colombia",
          "Argentina, Uruguay, Serbia",
          "Venezuela",
          "United States, Canada, Belgium, United Kingdom",
          "Philippines, Singapore",
          "Pakistan, Norway, United States",
          "China, United States, United Kingdom",
          "United States, Brazil",
          "Spain, Cuba",
          "Italy, Switzerland, Albania, Poland",
          "United Kingdom, Israel, Russia",
          "Argentina, Italy",
          "United Arab Emirates, United States, United Kingdom",
          "China, Japan",
          "Cambodia, United States",
          "Philippines, Qatar",
          "Turkey, India",
          "India, Iran",
          "United States, Canada, Indonesia, United Kingdom, China, Singapore",
          "South Korea, China",
          "Uruguay, Spain, Mexico",
          "Mexico, Finland",
          "United States, France, Canada",
          "United States, United Kingdom, Italy",
          "United States, United Kingdom, Denmark, Sweden",
          "United States, France, United Kingdom, Japan",
          "Italy, Germany",
          "United Kingdom, Canada, United States, Cayman Islands",
          "United Kingdom, Denmark, Canada, Croatia",
          "Italy, Canada, France",
          "United States, South Korea",
          "Kenya, United States",
          "India, Turkey",
          "Italy, Turkey",
          "France, Belgium, Luxembourg, Cambodia,",
          "United Arab Emirates, Jordan, Lebanon",
          "Austria, Germany",
          "United States, Nicaragua",
          "United States, France, Mexico",
          "Ireland, United Kingdom, Italy, United States",
          "Chile, Italy",
          "West Germany",
          "Romania, United States",
          "United States, South Korea, Japan",
          "Lebanon, United Arab Emirates, France, Switzerland, Germany",
          "France, Australia, Germany",
          "Ireland, United States",
          "United States, Canada, Germany",
          "Russia, United States, China",
          "Italy, Switzerland, France, Germany",
          "United States, United Kingdom, Canada",
          "United States, United Kingdom, Japan",
          "Germany, Australia, France, China",
          "Uruguay, Guatemala",
          "United States, France, Canada, Spain",
          "Bulgaria, United States, Spain, Canada",
          "Romania, France, Switzerland, Germany",
          "Canada, France",
          "France, Senegal, Belgium",
          "United Kingdom, United States, Dominican Republic",
          "Canada, Ireland, United States",
          "United Kingdom, France, Belgium",
          "China, South Korea, United States",
          "Switzerland, France, Belgium, United States",
          "India, Japan",
          "United States, Spain, Germany",
          "Indonesia, United Kingdom",
          "United Kingdom, United States, France",
          "Canada, United Kingdom, Netherlands",
          "Slovenia, Croatia, Germany, Czech Republic, Qatar",
          "Poland,",
          "Cambodia",
          "Taiwan, China",
          "Finland, Germany, Belgium",
          "Canada, United States, United Kingdom, France, Luxembourg",
          "South Africa, Germany, Netherlands, France",
          "Argentina, France",
          "United Kingdom, Germany, Canada",
          "Germany, United Kingdom, United States",
          "United States, Senegal",
          "Namibia",
          "Norway, Denmark, Netherlands, Sweden",
          "Australia, Armenia, Japan, Jordan, Mexico, Mongolia, New Zealand, Philippines, South Africa, Sweden, United States, Uruguay",
          "Japan, Canada, United States",
          "Australia, United Kingdom, United Arab Emirates, Canada",
          "France, United States, Mexico",
          "Sweden, Netherlands",
          "Canada, Nigeria",
          "Mexico, United States, Spain, Colombia",
          "China, India, Nepal",
          "Norway, Denmark, Sweden",
          "United Kingdom, Norway, Denmark, Germany, Sweden",
          "United States, Chile, Israel",
          "France, Belgium, China, United States",
          "China, United States, Australia",
          "Netherlands, Belgium, United Kingdom, United States",
          "Indonesia, Netherlands",
          "United States, France, Canada, Lebanon, Qatar",
          "United Kingdom, Germany, Canada, United States",
          "Germany, United States, Canada",
          "Jordan",
          "Ireland, United States, France",
          "Spain, Portugal",
          "Denmark, Singapore, Canada, United States",
          "Netherlands, Belgium, Germany, Jordan",
          "United States, Taiwan",
          "United Kingdom, South Korea",
          "Nigeria, United Kingdom",
          "United Kingdom, Belgium, Sweden",
          "Indonesia, South Korea, Singapore",
          "India, United Kingdom, China, Canada, Japan, South Korea, United States",
          "France, Canada, Belgium",
          "Brazil, Netherlands, United States, Colombia, Austria, Germany",
          "United Kingdom, Canada, United States, Germany",
          "Spain, Belgium",
          "China, Spain, South Korea, United States",
          "Finland",
          "Ireland, Canada",
          "Iceland, Sweden, Belgium",
          "United States, China, Hong Kong",
          "Turkey, Azerbaijan",
          "Uruguay, Germany",
          "Argentina, Chile, Peru",
          "China, United Kingdom",
          "Canada, South Africa",
          "United States, Australia, Samoa, United Kingdom",
          "Canada, Luxembourg",
          "United Kingdom, France, Germany",
          "Soviet Union, India",
          "South Korea, France",
          "United States, Greece, Brazil",
          "United States, Philippines",
          "Norway, United States",
          "Malaysia, Singapore, Hong Kong",
          "Denmark, China",
          "United States, Bermuda, Ecuador",
          "Norway, United Kingdom, France, Ireland",
          "United States, Spain, Italy",
          "United States, China, Colombia",
          "United States, Cambodia",
          "Netherlands, Germany, Italy, Canada",
          "France, Japan",
          "United Kingdom, France, Belgium, United States",
          "Canada, Spain",
          "Germany, United States, Sweden",
          "Poland, West Germany",
          "Italy, United Kingdom, France",
          "China, Taiwan",
          "France, United Kingdom, India",
          "Argentina, United States, Mexico",
          "Canada, Germany, France, United States",
          "Germany, United States, France",
          "United States, Nigeria",
          "Puerto Rico, United States, Colombia",
          "Chile, Argentina, France, Spain, United States",
          "United States, Colombia, Mexico",
          "United States, Botswana",
          "Italy, India",
          "Turkey, South Korea",
          "Switzerland, France",
          "Georgia, Germany, France",
          "France, Morocco",
          "Chile, United States, France",
          "Israel, Sweden, Germany, Netherlands",
          "United Kingdom, West Germany",
          "India, Mexico",
          "United Kingdom, Poland",
          "Singapore, France",
          "Denmark, France, United States, Sweden",
          "India, Germany, Austria",
          "Brazil, India, China, United States",
          "Denmark, Brazil, France, Portugal, Sweden",
          "Germany, Czech Republic",
          "United Kingdom, Singapore",
          "United States, Ireland, United Kingdom, India",
          "Norway, Sweden",
          "France, Switzerland, Spain, United States, United Arab Emirates",
          "Denmark, Germany, Belgium, United Kingdom, France, Sweden",
          "Denmark, Germany, Belgium, United Kingdom, France",
          "United States, India, South Korea, China",
          "Netherlands, United States",
          "United Kingdom, United States, Japan",
          "Spain, Germany, Denmark, United States",
          "India, Nepal",
          "France, Luxembourg, Canada",
          "Venezuela, Colombia",
          "United Kingdom, Thailand",
          "France, Belgium, Italy",
          "Canada, United States, Germany",
          "Spain, Colombia",
          "China, Morocco, Hong Kong",
          "Australia, Iraq",
          "Egypt, Algeria",
          "Uruguay, Argentina",
          "Mauritius, South Africa",
          "Germany, France, Russia",
          "Hong Kong, Iceland, United States",
          "Australia, France",
          "United Kingdom, United States, France, Germany",
          "United States, Netherlands, Japan, France",
          "United States, New Zealand, Japan",
          "France, Japan, United States",
          "Portugal, France, Poland, United States",
          "Switzerland, Vatican City, Italy, Germany, France",
          "Canada, United States, Ireland",
          "United States, Norway, Canada",
          "United Kingdom, Kenya",
          "Spain, United Kingdom, United States",
          "France, United Kingdom",
          "Pakistan, United Arab Emirates",
          "Canada, Hungary, United States",
          "Germany, China, United Kingdom",
          "France, Germany, Czech Republic, Belgium",
          "Colombia, Mexico",
          "Colombia, United States",
          "United States, Germany, Australia",
          "Ireland, Canada, United Kingdom, United States",
          "India, Canada",
          "United States, Uruguay",
          "Singapore, Malaysia",
          "Peru, Germany, Norway",
          "Germany, France, United States, Canada, United Kingdom",
          "United Kingdom, United States, Canada",
          "Canada, Mexico, Germany, South Africa",
          "Singapore, Japan, France",
          "South Korea, Canada, United States, China",
          "Norway, Denmark",
          "United States, Mexico, Spain, Malta",
          "United States, Morocco",
          "Canada, Japan, United States",
          "India, Switzerland",
          "South Africa, United States, Germany",
          "United Kingdom, Finland, Germany",
          "Italy, South Africa, West Germany, Australia, United States",
          "United States, United Kingdom, Canada, China",
          "Guatemala",
          "South Korea, China, United States",
          "United States, United Kingdom, Spain, South Korea",
          "Hong Kong, Taiwan",
          "Sweden, United Kingdom, Finland",
          "United States, United Kingdom, Canada, Japan",
          "Australia, India",
          "Austria, Czech Republic",
          "South Africa, Angola",
          "Australia, France, Ireland",
          "Israel, Germany, France",
          "Senegal",
          "United Kingdom, New Zealand",
          "China, Hong Kong, United States",
          "Thailand, Canada, United States",
          "Switzerland, United States",
          "India, Malaysia",
          "United States, Colombia",
          "Canada, France, United States",
          "Italy, France, Switzerland",
          "Uruguay, Argentina, Spain",
          "Argentina, Brazil, France, Poland, Germany, Denmark",
          "United Kingdom, France, Belgium, United States, China",
          "Iran, France",
          "United Kingdom, Hong Kong",
          "United Kingdom, Spain, United States",
          "France, Netherlands, Singapore",
          "United States, Germany, United Kingdom, Australia",
          "United States, Kazakhstan",
          "Lebanon, United States, United Arab Emirates",
          "Cyprus",
          "Belarus",
          "Denmark, United Kingdom, Sweden",
          "United Kingdom, France, Canada, Belgium, United States",
          "United States, Denmark",
          "Australia, United Kingdom",
          "France, United States, Canada",
          "Australia, United Kingdom, United States, New Zealand, Italy, France",
          "Jamaica, United States",
          "United States, Hungary",
          "Australia, United Kingdom, Canada",
          "Czech Republic, United Kingdom, France",
          "South Korea, Czech Republic",
          "United Kingdom, France, Germany, United States",
          "United Kingdom, Malawi",
          "United States, Canada, China",
          "United States, Hungary, Ireland, Canada",
          "Canada, Norway",
          "United States, United Kingdom, France, Germany, Japan",
          "Chile, France",
          "France, Canada, United States",
          "France, Belgium, United States",
          "Spain, France, Uruguay",
          "Netherlands, Denmark, South Africa",
          "New Zealand, United Kingdom",
          "Finland, United States",
          "United States, New Zealand, United Kingdom",
          "United States, Germany, United Kingdom, Italy",
          "United States, Germany, United Kingdom",
          "Argentina, France, United States, Germany, Qatar",
          "Czech Republic, Slovakia",
          "Argentina, Chile",
          "United Kingdom, France, Belgium, Canada, United States",
          "Greece, United States",
          "Austria, United States",
          "United Kingdom, United States, Germany, Denmark, Belgium, Japan",
          "United States, Malta, France, United Kingdom",
          "France, Germany",
          "Israel, Germany, Poland, Luxembourg, Belgium, France, United States",
          "France, Belgium, Luxembourg, Romania, Canada, United States",
          "Brazil, United Kingdom",
          "Mexico, France",
          "Israel, Germany",
          "Ghana, United States",
          "United States, Czech Republic, United Kingdom",
          "Ireland, Canada, Luxembourg, United States, United Kingdom, Philippines, India",
          "Canada, Germany, South Africa",
          "Spain, Thailand, United States",
          "United Kingdom, Canada, France, United States",
          "United States, India, United Arab Emirates",
          "Canada, Belgium",
          "Spain, Canada, United States",
          "United States, China, Canada",
          "United States, United Kingdom, Morocco",
          "United Kingdom, United States, Morocco",
          "United States, Sweden, Norway",
          "Taiwan, Malaysia",
          "United Kingdom, China, United States, India",
          "United States, Greece, United Kingdom",
          "Spain, France, Canada",
          "United Kingdom, Lithuania",
          "United Kingdom, Germany, United States, France",
          "United Kingdom, Germany, United States",
          "Argentina, Uruguay, Spain, France",
          "Denmark, Indonesia, Finland, Norway, United Kingdom, Israel, France, United States, Germany, Netherlands",
          "Ireland, United Kingdom, Greece, France, Netherlands",
          "France, Lebanon",
          "Netherlands, Germany, Denmark, United Kingdom",
          "France, Canada, Italy, United States, China",
          "Norway, Germany",
          "United Kingdom, Italy, Israel, Peru, United States",
          "Paraguay, Argentina",
          "Chile, Peru",
          "Belgium, Ireland, Netherlands, Germany, Afghanistan",
          "Lebanon, France",
          "United Kingdom, Hungary, Australia",
          "United States, Israel, United Kingdom, Canada",
          "India, Germany, France",
          "Canada, South Korea, United States",
          "Indonesia, United States",
          "Spain, Switzerland",
          "Australia, New Zealand",
          "Belgium, United Kingdom, United States",
          "Germany, Italy",
          "Chile, Spain, Argentina, Germany",
          "United States, Germany, Mexico",
          "Italy, Belgium",
          "Denmark, France, Poland",
          "United States, France, Serbia",
          "South Africa, China, United States",
          "Hong Kong, China, Singapore",
          "Portugal, Spain",
          "South Africa, Nigeria",
          "United States, Australia, South Africa, United Kingdom",
          "United States, France, Canada, Belgium",
          "United States, Belgium, Canada",
          "India, United Kingdom, Canada, United States",
          "Spain, France, Canada, United States",
          "Canada, Germany",
          "Ireland, South Africa",
          "Germany, Canada, United States",
          "Denmark, United Kingdom, South Africa, Sweden, Belgium",
          "Serbia, South Korea, Slovenia",
          "United Kingdom, Spain, Belgium",
          "United States, Canada, Japan, Panama",
          "Spain, United States",
          "Ireland, France, Iceland, United States, Mexico, Belgium, United Kingdom, Hong Kong",
          "Somalia, Kenya, Sudan, South Africa, United States",
          "Croatia",
          "France, Iran, United States",
          "United States, Venezuela",
          "Germany, United States, Italy",
          "Spain, Italy, Argentina",
          "Mexico, Netherlands",
          "United Kingdom, Australia, Canada, United States",
          "United Arab Emirates, Romania",
          "United States, Poland",
          "New Zealand, United Kingdom, Australia",
          "Ireland, Canada, United States, United Kingdom",
          "United States, United Kingdom, India",
          "Georgia",
          "United States, France, Italy, United Kingdom",
          "United Kingdom, Spain, United States, Germany",
          "United Kingdom, France, United States, Belgium, Luxembourg, China, Germany",
          "United Kingdom, Germany, United Arab Emirates, New Zealand",
          "United Kingdom, Egypt, United States",
          "India, Australia",
          "United Arab Emirates, Jordan",
          "United States, France, South Korea, Indonesia",
          "Japan, Canada",
          "Croatia, Slovenia, Serbia, Montenegro",
          "Russia, Spain",
          "Egypt, Austria, United States",
          "United Kingdom, Ukraine, United States",
          "France, Netherlands, South Africa, Finland",
          "United States, East Germany, West Germany",
          "Saudi Arabia, Netherlands, Germany, Jordan, United Arab Emirates, United States",
          "United Kingdom,",
          "India, Pakistan",
          "United Kingdom, Belgium",
          "United Kingdom, India, Sweden",
          "Lebanon, Qatar",
          "United States, Canada, Ireland",
          "India, United Kingdom",
          "United Kingdom, Russia",
          "Denmark, Spain",
          "Finland, France",
          "Romania, Bulgaria, Hungary",
          "Canada, India, Thailand, United States, United Arab Emirates",
          "United Kingdom, Spain",
          "France, Luxembourg, United States",
          "Uruguay, Argentina, Germany, Spain",
          "Germany, United States, United Kingdom, Canada",
          "Peru, United States, United Kingdom",
          "Saudi Arabia, United Arab Emirates",
          "United Kingdom, France, United States, Belgium",
          "France, Norway, Lebanon, Belgium",
          "Austria, Iraq, United States"
         ],
         "name": "",
         "type": "choropleth",
         "z": {
          "bdata": "/AmbA/sBjQHiALcAsQCGAHMAZQBkAGQAUwBOAEgARwBHAEYAQAA9ADwAOQA5ADQAMgAqACgAJQAfABsAGQAXABYAFAASABAAEAAQAA4ADgAOAA4ADgANAA0ADAAMAAwACwALAAsACwALAAoACgAKAAkACQAIAAgACAAHAAcABgAGAAYABgAGAAYABQAFAAUABQAFAAUABQAEAAQABAAEAAQABAAEAAQABAAEAAQABAAEAAQABAADAAMAAwADAAMAAwADAAMAAwADAAMAAwADAAMAAwADAAMAAwADAAMAAwADAAIAAgACAAIAAgACAAIAAgACAAIAAgACAAIAAgACAAIAAgACAAIAAgACAAIAAgACAAIAAgACAAIAAgACAAIAAgACAAIAAgACAAIAAgACAAIAAgACAAIAAgACAAIAAgACAAIAAgACAAIAAQABAAEAAQABAAEAAQABAAEAAQABAAEAAQABAAEAAQABAAEAAQABAAEAAQABAAEAAQABAAEAAQABAAEAAQABAAEAAQABAAEAAQABAAEAAQABAAEAAQABAAEAAQABAAEAAQABAAEAAQABAAEAAQABAAEAAQABAAEAAQABAAEAAQABAAEAAQABAAEAAQABAAEAAQABAAEAAQABAAEAAQABAAEAAQABAAEAAQABAAEAAQABAAEAAQABAAEAAQABAAEAAQABAAEAAQABAAEAAQABAAEAAQABAAEAAQABAAEAAQABAAEAAQABAAEAAQABAAEAAQABAAEAAQABAAEAAQABAAEAAQABAAEAAQABAAEAAQABAAEAAQABAAEAAQABAAEAAQABAAEAAQABAAEAAQABAAEAAQABAAEAAQABAAEAAQABAAEAAQABAAEAAQABAAEAAQABAAEAAQABAAEAAQABAAEAAQABAAEAAQABAAEAAQABAAEAAQABAAEAAQABAAEAAQABAAEAAQABAAEAAQABAAEAAQABAAEAAQABAAEAAQABAAEAAQABAAEAAQABAAEAAQABAAEAAQABAAEAAQABAAEAAQABAAEAAQABAAEAAQABAAEAAQABAAEAAQABAAEAAQABAAEAAQABAAEAAQABAAEAAQABAAEAAQABAAEAAQABAAEAAQABAAEAAQABAAEAAQABAAEAAQABAAEAAQABAAEAAQABAAEAAQABAAEAAQABAAEAAQABAAEAAQABAAEAAQABAAEAAQABAAEAAQABAAEAAQABAAEAAQABAAEAAQABAAEAAQABAAEAAQABAAEAAQABAAEAAQABAAEAAQABAAEAAQABAAEAAQABAAEAAQABAAEAAQABAAEAAQABAAEAAQABAAEAAQABAAEAAQABAAEAAQABAAEAAQABAAEAAQABAAEAAQABAAEAAQABAAEAAQABAAEAAQABAAEAAQABAAEAAQABAAEAAQABAAEAAQABAAEAAQABAAEAAQABAAEAAQABAAEAAQABAAEAAQABAAEAAQABAAEAAQABAAEAAQABAAEAAQABAAEAAQABAAEAAQABAAEAAQABAAEAAQABAAEAAQABAAEAAQABAAEAAQABAAEAAQABAAEAAQABAAEAAQABAAEAAQABAAEAAQABAAEAAQABAAEAAQABAAEAAQABAAEAAQABAAEAAQABAAEAAQABAAEAAQABAAEAAQABAAEAAQABAAEAAQABAAEAAQABAAEAAQABAAEAAQABAAEAAQABAAEAAQABAAEAAQABAAEAAQABAAEAAQABAAEAAQABAAEAAQABAAEAAQABAAEAAQABAAEAAQABAAEAAQABAAEAAQABAAEAAQA=",
          "dtype": "i2"
         }
        }
       ],
       "layout": {
        "coloraxis": {
         "colorbar": {
          "title": {
           "text": "Count"
          }
         },
         "colorscale": [
          [
           0,
           "#440154"
          ],
          [
           0.1111111111111111,
           "#482878"
          ],
          [
           0.2222222222222222,
           "#3e4989"
          ],
          [
           0.3333333333333333,
           "#31688e"
          ],
          [
           0.4444444444444444,
           "#26828e"
          ],
          [
           0.5555555555555556,
           "#1f9e89"
          ],
          [
           0.6666666666666666,
           "#35b779"
          ],
          [
           0.7777777777777778,
           "#6ece58"
          ],
          [
           0.8888888888888888,
           "#b5de2b"
          ],
          [
           1,
           "#fde725"
          ]
         ]
        },
        "geo": {
         "center": {},
         "domain": {
          "x": [
           0,
           1
          ],
          "y": [
           0,
           1
          ]
         }
        },
        "legend": {
         "tracegroupgap": 0
        },
        "template": {
         "data": {
          "bar": [
           {
            "error_x": {
             "color": "#2a3f5f"
            },
            "error_y": {
             "color": "#2a3f5f"
            },
            "marker": {
             "line": {
              "color": "#E5ECF6",
              "width": 0.5
             },
             "pattern": {
              "fillmode": "overlay",
              "size": 10,
              "solidity": 0.2
             }
            },
            "type": "bar"
           }
          ],
          "barpolar": [
           {
            "marker": {
             "line": {
              "color": "#E5ECF6",
              "width": 0.5
             },
             "pattern": {
              "fillmode": "overlay",
              "size": 10,
              "solidity": 0.2
             }
            },
            "type": "barpolar"
           }
          ],
          "carpet": [
           {
            "aaxis": {
             "endlinecolor": "#2a3f5f",
             "gridcolor": "white",
             "linecolor": "white",
             "minorgridcolor": "white",
             "startlinecolor": "#2a3f5f"
            },
            "baxis": {
             "endlinecolor": "#2a3f5f",
             "gridcolor": "white",
             "linecolor": "white",
             "minorgridcolor": "white",
             "startlinecolor": "#2a3f5f"
            },
            "type": "carpet"
           }
          ],
          "choropleth": [
           {
            "colorbar": {
             "outlinewidth": 0,
             "ticks": ""
            },
            "type": "choropleth"
           }
          ],
          "contour": [
           {
            "colorbar": {
             "outlinewidth": 0,
             "ticks": ""
            },
            "colorscale": [
             [
              0,
              "#0d0887"
             ],
             [
              0.1111111111111111,
              "#46039f"
             ],
             [
              0.2222222222222222,
              "#7201a8"
             ],
             [
              0.3333333333333333,
              "#9c179e"
             ],
             [
              0.4444444444444444,
              "#bd3786"
             ],
             [
              0.5555555555555556,
              "#d8576b"
             ],
             [
              0.6666666666666666,
              "#ed7953"
             ],
             [
              0.7777777777777778,
              "#fb9f3a"
             ],
             [
              0.8888888888888888,
              "#fdca26"
             ],
             [
              1,
              "#f0f921"
             ]
            ],
            "type": "contour"
           }
          ],
          "contourcarpet": [
           {
            "colorbar": {
             "outlinewidth": 0,
             "ticks": ""
            },
            "type": "contourcarpet"
           }
          ],
          "heatmap": [
           {
            "colorbar": {
             "outlinewidth": 0,
             "ticks": ""
            },
            "colorscale": [
             [
              0,
              "#0d0887"
             ],
             [
              0.1111111111111111,
              "#46039f"
             ],
             [
              0.2222222222222222,
              "#7201a8"
             ],
             [
              0.3333333333333333,
              "#9c179e"
             ],
             [
              0.4444444444444444,
              "#bd3786"
             ],
             [
              0.5555555555555556,
              "#d8576b"
             ],
             [
              0.6666666666666666,
              "#ed7953"
             ],
             [
              0.7777777777777778,
              "#fb9f3a"
             ],
             [
              0.8888888888888888,
              "#fdca26"
             ],
             [
              1,
              "#f0f921"
             ]
            ],
            "type": "heatmap"
           }
          ],
          "histogram": [
           {
            "marker": {
             "pattern": {
              "fillmode": "overlay",
              "size": 10,
              "solidity": 0.2
             }
            },
            "type": "histogram"
           }
          ],
          "histogram2d": [
           {
            "colorbar": {
             "outlinewidth": 0,
             "ticks": ""
            },
            "colorscale": [
             [
              0,
              "#0d0887"
             ],
             [
              0.1111111111111111,
              "#46039f"
             ],
             [
              0.2222222222222222,
              "#7201a8"
             ],
             [
              0.3333333333333333,
              "#9c179e"
             ],
             [
              0.4444444444444444,
              "#bd3786"
             ],
             [
              0.5555555555555556,
              "#d8576b"
             ],
             [
              0.6666666666666666,
              "#ed7953"
             ],
             [
              0.7777777777777778,
              "#fb9f3a"
             ],
             [
              0.8888888888888888,
              "#fdca26"
             ],
             [
              1,
              "#f0f921"
             ]
            ],
            "type": "histogram2d"
           }
          ],
          "histogram2dcontour": [
           {
            "colorbar": {
             "outlinewidth": 0,
             "ticks": ""
            },
            "colorscale": [
             [
              0,
              "#0d0887"
             ],
             [
              0.1111111111111111,
              "#46039f"
             ],
             [
              0.2222222222222222,
              "#7201a8"
             ],
             [
              0.3333333333333333,
              "#9c179e"
             ],
             [
              0.4444444444444444,
              "#bd3786"
             ],
             [
              0.5555555555555556,
              "#d8576b"
             ],
             [
              0.6666666666666666,
              "#ed7953"
             ],
             [
              0.7777777777777778,
              "#fb9f3a"
             ],
             [
              0.8888888888888888,
              "#fdca26"
             ],
             [
              1,
              "#f0f921"
             ]
            ],
            "type": "histogram2dcontour"
           }
          ],
          "mesh3d": [
           {
            "colorbar": {
             "outlinewidth": 0,
             "ticks": ""
            },
            "type": "mesh3d"
           }
          ],
          "parcoords": [
           {
            "line": {
             "colorbar": {
              "outlinewidth": 0,
              "ticks": ""
             }
            },
            "type": "parcoords"
           }
          ],
          "pie": [
           {
            "automargin": true,
            "type": "pie"
           }
          ],
          "scatter": [
           {
            "fillpattern": {
             "fillmode": "overlay",
             "size": 10,
             "solidity": 0.2
            },
            "type": "scatter"
           }
          ],
          "scatter3d": [
           {
            "line": {
             "colorbar": {
              "outlinewidth": 0,
              "ticks": ""
             }
            },
            "marker": {
             "colorbar": {
              "outlinewidth": 0,
              "ticks": ""
             }
            },
            "type": "scatter3d"
           }
          ],
          "scattercarpet": [
           {
            "marker": {
             "colorbar": {
              "outlinewidth": 0,
              "ticks": ""
             }
            },
            "type": "scattercarpet"
           }
          ],
          "scattergeo": [
           {
            "marker": {
             "colorbar": {
              "outlinewidth": 0,
              "ticks": ""
             }
            },
            "type": "scattergeo"
           }
          ],
          "scattergl": [
           {
            "marker": {
             "colorbar": {
              "outlinewidth": 0,
              "ticks": ""
             }
            },
            "type": "scattergl"
           }
          ],
          "scattermap": [
           {
            "marker": {
             "colorbar": {
              "outlinewidth": 0,
              "ticks": ""
             }
            },
            "type": "scattermap"
           }
          ],
          "scattermapbox": [
           {
            "marker": {
             "colorbar": {
              "outlinewidth": 0,
              "ticks": ""
             }
            },
            "type": "scattermapbox"
           }
          ],
          "scatterpolar": [
           {
            "marker": {
             "colorbar": {
              "outlinewidth": 0,
              "ticks": ""
             }
            },
            "type": "scatterpolar"
           }
          ],
          "scatterpolargl": [
           {
            "marker": {
             "colorbar": {
              "outlinewidth": 0,
              "ticks": ""
             }
            },
            "type": "scatterpolargl"
           }
          ],
          "scatterternary": [
           {
            "marker": {
             "colorbar": {
              "outlinewidth": 0,
              "ticks": ""
             }
            },
            "type": "scatterternary"
           }
          ],
          "surface": [
           {
            "colorbar": {
             "outlinewidth": 0,
             "ticks": ""
            },
            "colorscale": [
             [
              0,
              "#0d0887"
             ],
             [
              0.1111111111111111,
              "#46039f"
             ],
             [
              0.2222222222222222,
              "#7201a8"
             ],
             [
              0.3333333333333333,
              "#9c179e"
             ],
             [
              0.4444444444444444,
              "#bd3786"
             ],
             [
              0.5555555555555556,
              "#d8576b"
             ],
             [
              0.6666666666666666,
              "#ed7953"
             ],
             [
              0.7777777777777778,
              "#fb9f3a"
             ],
             [
              0.8888888888888888,
              "#fdca26"
             ],
             [
              1,
              "#f0f921"
             ]
            ],
            "type": "surface"
           }
          ],
          "table": [
           {
            "cells": {
             "fill": {
              "color": "#EBF0F8"
             },
             "line": {
              "color": "white"
             }
            },
            "header": {
             "fill": {
              "color": "#C8D4E3"
             },
             "line": {
              "color": "white"
             }
            },
            "type": "table"
           }
          ]
         },
         "layout": {
          "annotationdefaults": {
           "arrowcolor": "#2a3f5f",
           "arrowhead": 0,
           "arrowwidth": 1
          },
          "autotypenumbers": "strict",
          "coloraxis": {
           "colorbar": {
            "outlinewidth": 0,
            "ticks": ""
           }
          },
          "colorscale": {
           "diverging": [
            [
             0,
             "#8e0152"
            ],
            [
             0.1,
             "#c51b7d"
            ],
            [
             0.2,
             "#de77ae"
            ],
            [
             0.3,
             "#f1b6da"
            ],
            [
             0.4,
             "#fde0ef"
            ],
            [
             0.5,
             "#f7f7f7"
            ],
            [
             0.6,
             "#e6f5d0"
            ],
            [
             0.7,
             "#b8e186"
            ],
            [
             0.8,
             "#7fbc41"
            ],
            [
             0.9,
             "#4d9221"
            ],
            [
             1,
             "#276419"
            ]
           ],
           "sequential": [
            [
             0,
             "#0d0887"
            ],
            [
             0.1111111111111111,
             "#46039f"
            ],
            [
             0.2222222222222222,
             "#7201a8"
            ],
            [
             0.3333333333333333,
             "#9c179e"
            ],
            [
             0.4444444444444444,
             "#bd3786"
            ],
            [
             0.5555555555555556,
             "#d8576b"
            ],
            [
             0.6666666666666666,
             "#ed7953"
            ],
            [
             0.7777777777777778,
             "#fb9f3a"
            ],
            [
             0.8888888888888888,
             "#fdca26"
            ],
            [
             1,
             "#f0f921"
            ]
           ],
           "sequentialminus": [
            [
             0,
             "#0d0887"
            ],
            [
             0.1111111111111111,
             "#46039f"
            ],
            [
             0.2222222222222222,
             "#7201a8"
            ],
            [
             0.3333333333333333,
             "#9c179e"
            ],
            [
             0.4444444444444444,
             "#bd3786"
            ],
            [
             0.5555555555555556,
             "#d8576b"
            ],
            [
             0.6666666666666666,
             "#ed7953"
            ],
            [
             0.7777777777777778,
             "#fb9f3a"
            ],
            [
             0.8888888888888888,
             "#fdca26"
            ],
            [
             1,
             "#f0f921"
            ]
           ]
          },
          "colorway": [
           "#636efa",
           "#EF553B",
           "#00cc96",
           "#ab63fa",
           "#FFA15A",
           "#19d3f3",
           "#FF6692",
           "#B6E880",
           "#FF97FF",
           "#FECB52"
          ],
          "font": {
           "color": "#2a3f5f"
          },
          "geo": {
           "bgcolor": "white",
           "lakecolor": "white",
           "landcolor": "#E5ECF6",
           "showlakes": true,
           "showland": true,
           "subunitcolor": "white"
          },
          "hoverlabel": {
           "align": "left"
          },
          "hovermode": "closest",
          "mapbox": {
           "style": "light"
          },
          "paper_bgcolor": "white",
          "plot_bgcolor": "#E5ECF6",
          "polar": {
           "angularaxis": {
            "gridcolor": "white",
            "linecolor": "white",
            "ticks": ""
           },
           "bgcolor": "#E5ECF6",
           "radialaxis": {
            "gridcolor": "white",
            "linecolor": "white",
            "ticks": ""
           }
          },
          "scene": {
           "xaxis": {
            "backgroundcolor": "#E5ECF6",
            "gridcolor": "white",
            "gridwidth": 2,
            "linecolor": "white",
            "showbackground": true,
            "ticks": "",
            "zerolinecolor": "white"
           },
           "yaxis": {
            "backgroundcolor": "#E5ECF6",
            "gridcolor": "white",
            "gridwidth": 2,
            "linecolor": "white",
            "showbackground": true,
            "ticks": "",
            "zerolinecolor": "white"
           },
           "zaxis": {
            "backgroundcolor": "#E5ECF6",
            "gridcolor": "white",
            "gridwidth": 2,
            "linecolor": "white",
            "showbackground": true,
            "ticks": "",
            "zerolinecolor": "white"
           }
          },
          "shapedefaults": {
           "line": {
            "color": "#2a3f5f"
           }
          },
          "ternary": {
           "aaxis": {
            "gridcolor": "white",
            "linecolor": "white",
            "ticks": ""
           },
           "baxis": {
            "gridcolor": "white",
            "linecolor": "white",
            "ticks": ""
           },
           "bgcolor": "#E5ECF6",
           "caxis": {
            "gridcolor": "white",
            "linecolor": "white",
            "ticks": ""
           }
          },
          "title": {
           "x": 0.05
          },
          "xaxis": {
           "automargin": true,
           "gridcolor": "white",
           "linecolor": "white",
           "ticks": "",
           "title": {
            "standoff": 15
           },
           "zerolinecolor": "white",
           "zerolinewidth": 2
          },
          "yaxis": {
           "automargin": true,
           "gridcolor": "white",
           "linecolor": "white",
           "ticks": "",
           "title": {
            "standoff": 15
           },
           "zerolinecolor": "white",
           "zerolinewidth": 2
          }
         }
        },
        "title": {
         "text": "Netflix Content by Country"
        }
       }
      },
      "image/png": "[encoded data removed]"
     },
     "metadata": {},
     "output_type": "display_data"
    }
   ],
   "source": [
    "country_counts = df['Country'].value_counts().reset_index()\n",
    "country_counts.columns = ['Country', 'Count']\n",
    "fig4 = px.choropleth(country_counts, locations=\"Country\", locationmode=\"country names\",\n",
    "                     color=\"Count\", hover_name=\"Country\",\n",
    "                     color_continuous_scale=\"Viridis\",\n",
    "                     title=\"Netflix Content by Country\")\n",
    "fig4.show()"
   ]
  },
  {
   "cell_type": "code",
   "execution_count": 11,
   "id": "a41d2f86-cfaf-48c7-909f-3c52f9683cfe",
   "metadata": {},
   "outputs": [
    {
     "data": {
      "application/vnd.plotly.v1+json": {
       "config": {
        "plotlyServerURL": "https://plot.ly"
       },
       "data": [
        {
         "hovertemplate": "Genre=Dramas<br>Year=%{x}<br>Number of Titles=%{y}<extra></extra>",
         "legendgroup": "Dramas",
         "line": {
          "color": "rgb(127, 60, 141)",
          "dash": "solid"
         },
         "marker": {
          "symbol": "circle"
         },
         "mode": "lines+markers",
         "name": "Dramas",
         "orientation": "v",
         "showlegend": true,
         "type": "scatter",
         "x": {
          "bdata": "AAAAAABgn0AAAAAAAGSfQAAAAAAAbJ9AAAAAAAB8n0AAAAAAAICfQAAAAAAAhJ9AAAAAAACIn0AAAAAAAIyfQAAAAAAAkJ9AAAAAAACUn0A=",
          "dtype": "f8"
         },
         "xaxis": "x",
         "y": {
          "bdata": "AQABAAwACAA1AMoAYgF8AWMBEwA=",
          "dtype": "i2"
         },
         "yaxis": "y"
        },
        {
         "hovertemplate": "Genre=Comedies<br>Year=%{x}<br>Number of Titles=%{y}<extra></extra>",
         "legendgroup": "Comedies",
         "line": {
          "color": "rgb(17, 165, 121)",
          "dash": "solid"
         },
         "marker": {
          "symbol": "circle"
         },
         "mode": "lines+markers",
         "name": "Comedies",
         "orientation": "v",
         "showlegend": true,
         "type": "scatter",
         "x": {
          "bdata": "AAAAAABwn0AAAAAAAHyfQAAAAAAAgJ9AAAAAAACEn0AAAAAAAIifQAAAAAAAjJ9AAAAAAACQn0AAAAAAAJSfQA==",
          "dtype": "f8"
         },
         "xaxis": "x",
         "y": {
          "bdata": "AQAHACIAlQD1ADcBMgEWAA==",
          "dtype": "i2"
         },
         "yaxis": "y"
        },
        {
         "hovertemplate": "Genre=Documentaries<br>Year=%{x}<br>Number of Titles=%{y}<extra></extra>",
         "legendgroup": "Documentaries",
         "line": {
          "color": "rgb(57, 105, 172)",
          "dash": "solid"
         },
         "marker": {
          "symbol": "circle"
         },
         "mode": "lines+markers",
         "name": "Documentaries",
         "orientation": "v",
         "showlegend": true,
         "type": "scatter",
         "x": {
          "bdata": "AAAAAABwn0AAAAAAAHifQAAAAAAAfJ9AAAAAAACAn0AAAAAAAISfQAAAAAAAiJ9AAAAAAACMn0AAAAAAAJCfQAAAAAAAlJ9A",
          "dtype": "f8"
         },
         "xaxis": "x",
         "y": {
          "bdata": "AQAIAA0ARQC8AKcAuwBtAAkA",
          "dtype": "i2"
         },
         "yaxis": "y"
        },
        {
         "hovertemplate": "Genre=Action & Adventure<br>Year=%{x}<br>Number of Titles=%{y}<extra></extra>",
         "legendgroup": "Action & Adventure",
         "line": {
          "color": "rgb(242, 183, 1)",
          "dash": "solid"
         },
         "marker": {
          "symbol": "circle"
         },
         "mode": "lines+markers",
         "name": "Action & Adventure",
         "orientation": "v",
         "showlegend": true,
         "type": "scatter",
         "x": {
          "bdata": "AAAAAAB4n0AAAAAAAHyfQAAAAAAAgJ9AAAAAAACEn0AAAAAAAIifQAAAAAAAjJ9AAAAAAACQn0AAAAAAAJSfQA==",
          "dtype": "f8"
         },
         "xaxis": "x",
         "y": {
          "bdata": "AQACABQAagCyAN4AsAAQAA==",
          "dtype": "i2"
         },
         "yaxis": "y"
        },
        {
         "hovertemplate": "Genre=International TV Shows<br>Year=%{x}<br>Number of Titles=%{y}<extra></extra>",
         "legendgroup": "International TV Shows",
         "line": {
          "color": "rgb(231, 63, 116)",
          "dash": "solid"
         },
         "marker": {
          "symbol": "circle"
         },
         "mode": "lines+markers",
         "name": "International TV Shows",
         "orientation": "v",
         "showlegend": true,
         "type": "scatter",
         "x": {
          "bdata": "AAAAAAB8n0AAAAAAAICfQAAAAAAAhJ9AAAAAAACIn0AAAAAAAIyfQAAAAAAAkJ9AAAAAAACUn0A=",
          "dtype": "f8"
         },
         "xaxis": "x",
         "y": {
          "bdata": "AQA6AIMAcQDMAKgAAgA=",
          "dtype": "i2"
         },
         "yaxis": "y"
        }
       ],
       "layout": {
        "legend": {
         "title": {
          "text": "Genre"
         },
         "tracegroupgap": 0
        },
        "template": {
         "data": {
          "bar": [
           {
            "error_x": {
             "color": "#2a3f5f"
            },
            "error_y": {
             "color": "#2a3f5f"
            },
            "marker": {
             "line": {
              "color": "#E5ECF6",
              "width": 0.5
             },
             "pattern": {
              "fillmode": "overlay",
              "size": 10,
              "solidity": 0.2
             }
            },
            "type": "bar"
           }
          ],
          "barpolar": [
           {
            "marker": {
             "line": {
              "color": "#E5ECF6",
              "width": 0.5
             },
             "pattern": {
              "fillmode": "overlay",
              "size": 10,
              "solidity": 0.2
             }
            },
            "type": "barpolar"
           }
          ],
          "carpet": [
           {
            "aaxis": {
             "endlinecolor": "#2a3f5f",
             "gridcolor": "white",
             "linecolor": "white",
             "minorgridcolor": "white",
             "startlinecolor": "#2a3f5f"
            },
            "baxis": {
             "endlinecolor": "#2a3f5f",
             "gridcolor": "white",
             "linecolor": "white",
             "minorgridcolor": "white",
             "startlinecolor": "#2a3f5f"
            },
            "type": "carpet"
           }
          ],
          "choropleth": [
           {
            "colorbar": {
             "outlinewidth": 0,
             "ticks": ""
            },
            "type": "choropleth"
           }
          ],
          "contour": [
           {
            "colorbar": {
             "outlinewidth": 0,
             "ticks": ""
            },
            "colorscale": [
             [
              0,
              "#0d0887"
             ],
             [
              0.1111111111111111,
              "#46039f"
             ],
             [
              0.2222222222222222,
              "#7201a8"
             ],
             [
              0.3333333333333333,
              "#9c179e"
             ],
             [
              0.4444444444444444,
              "#bd3786"
             ],
             [
              0.5555555555555556,
              "#d8576b"
             ],
             [
              0.6666666666666666,
              "#ed7953"
             ],
             [
              0.7777777777777778,
              "#fb9f3a"
             ],
             [
              0.8888888888888888,
              "#fdca26"
             ],
             [
              1,
              "#f0f921"
             ]
            ],
            "type": "contour"
           }
          ],
          "contourcarpet": [
           {
            "colorbar": {
             "outlinewidth": 0,
             "ticks": ""
            },
            "type": "contourcarpet"
           }
          ],
          "heatmap": [
           {
            "colorbar": {
             "outlinewidth": 0,
             "ticks": ""
            },
            "colorscale": [
             [
              0,
              "#0d0887"
             ],
             [
              0.1111111111111111,
              "#46039f"
             ],
             [
              0.2222222222222222,
              "#7201a8"
             ],
             [
              0.3333333333333333,
              "#9c179e"
             ],
             [
              0.4444444444444444,
              "#bd3786"
             ],
             [
              0.5555555555555556,
              "#d8576b"
             ],
             [
              0.6666666666666666,
              "#ed7953"
             ],
             [
              0.7777777777777778,
              "#fb9f3a"
             ],
             [
              0.8888888888888888,
              "#fdca26"
             ],
             [
              1,
              "#f0f921"
             ]
            ],
            "type": "heatmap"
           }
          ],
          "histogram": [
           {
            "marker": {
             "pattern": {
              "fillmode": "overlay",
              "size": 10,
              "solidity": 0.2
             }
            },
            "type": "histogram"
           }
          ],
          "histogram2d": [
           {
            "colorbar": {
             "outlinewidth": 0,
             "ticks": ""
            },
            "colorscale": [
             [
              0,
              "#0d0887"
             ],
             [
              0.1111111111111111,
              "#46039f"
             ],
             [
              0.2222222222222222,
              "#7201a8"
             ],
             [
              0.3333333333333333,
              "#9c179e"
             ],
             [
              0.4444444444444444,
              "#bd3786"
             ],
             [
              0.5555555555555556,
              "#d8576b"
             ],
             [
              0.6666666666666666,
              "#ed7953"
             ],
             [
              0.7777777777777778,
              "#fb9f3a"
             ],
             [
              0.8888888888888888,
              "#fdca26"
             ],
             [
              1,
              "#f0f921"
             ]
            ],
            "type": "histogram2d"
           }
          ],
          "histogram2dcontour": [
           {
            "colorbar": {
             "outlinewidth": 0,
             "ticks": ""
            },
            "colorscale": [
             [
              0,
              "#0d0887"
             ],
             [
              0.1111111111111111,
              "#46039f"
             ],
             [
              0.2222222222222222,
              "#7201a8"
             ],
             [
              0.3333333333333333,
              "#9c179e"
             ],
             [
              0.4444444444444444,
              "#bd3786"
             ],
             [
              0.5555555555555556,
              "#d8576b"
             ],
             [
              0.6666666666666666,
              "#ed7953"
             ],
             [
              0.7777777777777778,
              "#fb9f3a"
             ],
             [
              0.8888888888888888,
              "#fdca26"
             ],
             [
              1,
              "#f0f921"
             ]
            ],
            "type": "histogram2dcontour"
           }
          ],
          "mesh3d": [
           {
            "colorbar": {
             "outlinewidth": 0,
             "ticks": ""
            },
            "type": "mesh3d"
           }
          ],
          "parcoords": [
           {
            "line": {
             "colorbar": {
              "outlinewidth": 0,
              "ticks": ""
             }
            },
            "type": "parcoords"
           }
          ],
          "pie": [
           {
            "automargin": true,
            "type": "pie"
           }
          ],
          "scatter": [
           {
            "fillpattern": {
             "fillmode": "overlay",
             "size": 10,
             "solidity": 0.2
            },
            "type": "scatter"
           }
          ],
          "scatter3d": [
           {
            "line": {
             "colorbar": {
              "outlinewidth": 0,
              "ticks": ""
             }
            },
            "marker": {
             "colorbar": {
              "outlinewidth": 0,
              "ticks": ""
             }
            },
            "type": "scatter3d"
           }
          ],
          "scattercarpet": [
           {
            "marker": {
             "colorbar": {
              "outlinewidth": 0,
              "ticks": ""
             }
            },
            "type": "scattercarpet"
           }
          ],
          "scattergeo": [
           {
            "marker": {
             "colorbar": {
              "outlinewidth": 0,
              "ticks": ""
             }
            },
            "type": "scattergeo"
           }
          ],
          "scattergl": [
           {
            "marker": {
             "colorbar": {
              "outlinewidth": 0,
              "ticks": ""
             }
            },
            "type": "scattergl"
           }
          ],
          "scattermap": [
           {
            "marker": {
             "colorbar": {
              "outlinewidth": 0,
              "ticks": ""
             }
            },
            "type": "scattermap"
           }
          ],
          "scattermapbox": [
           {
            "marker": {
             "colorbar": {
              "outlinewidth": 0,
              "ticks": ""
             }
            },
            "type": "scattermapbox"
           }
          ],
          "scatterpolar": [
           {
            "marker": {
             "colorbar": {
              "outlinewidth": 0,
              "ticks": ""
             }
            },
            "type": "scatterpolar"
           }
          ],
          "scatterpolargl": [
           {
            "marker": {
             "colorbar": {
              "outlinewidth": 0,
              "ticks": ""
             }
            },
            "type": "scatterpolargl"
           }
          ],
          "scatterternary": [
           {
            "marker": {
             "colorbar": {
              "outlinewidth": 0,
              "ticks": ""
             }
            },
            "type": "scatterternary"
           }
          ],
          "surface": [
           {
            "colorbar": {
             "outlinewidth": 0,
             "ticks": ""
            },
            "colorscale": [
             [
              0,
              "#0d0887"
             ],
             [
              0.1111111111111111,
              "#46039f"
             ],
             [
              0.2222222222222222,
              "#7201a8"
             ],
             [
              0.3333333333333333,
              "#9c179e"
             ],
             [
              0.4444444444444444,
              "#bd3786"
             ],
             [
              0.5555555555555556,
              "#d8576b"
             ],
             [
              0.6666666666666666,
              "#ed7953"
             ],
             [
              0.7777777777777778,
              "#fb9f3a"
             ],
             [
              0.8888888888888888,
              "#fdca26"
             ],
             [
              1,
              "#f0f921"
             ]
            ],
            "type": "surface"
           }
          ],
          "table": [
           {
            "cells": {
             "fill": {
              "color": "#EBF0F8"
             },
             "line": {
              "color": "white"
             }
            },
            "header": {
             "fill": {
              "color": "#C8D4E3"
             },
             "line": {
              "color": "white"
             }
            },
            "type": "table"
           }
          ]
         },
         "layout": {
          "annotationdefaults": {
           "arrowcolor": "#2a3f5f",
           "arrowhead": 0,
           "arrowwidth": 1
          },
          "autotypenumbers": "strict",
          "coloraxis": {
           "colorbar": {
            "outlinewidth": 0,
            "ticks": ""
           }
          },
          "colorscale": {
           "diverging": [
            [
             0,
             "#8e0152"
            ],
            [
             0.1,
             "#c51b7d"
            ],
            [
             0.2,
             "#de77ae"
            ],
            [
             0.3,
             "#f1b6da"
            ],
            [
             0.4,
             "#fde0ef"
            ],
            [
             0.5,
             "#f7f7f7"
            ],
            [
             0.6,
             "#e6f5d0"
            ],
            [
             0.7,
             "#b8e186"
            ],
            [
             0.8,
             "#7fbc41"
            ],
            [
             0.9,
             "#4d9221"
            ],
            [
             1,
             "#276419"
            ]
           ],
           "sequential": [
            [
             0,
             "#0d0887"
            ],
            [
             0.1111111111111111,
             "#46039f"
            ],
            [
             0.2222222222222222,
             "#7201a8"
            ],
            [
             0.3333333333333333,
             "#9c179e"
            ],
            [
             0.4444444444444444,
             "#bd3786"
            ],
            [
             0.5555555555555556,
             "#d8576b"
            ],
            [
             0.6666666666666666,
             "#ed7953"
            ],
            [
             0.7777777777777778,
             "#fb9f3a"
            ],
            [
             0.8888888888888888,
             "#fdca26"
            ],
            [
             1,
             "#f0f921"
            ]
           ],
           "sequentialminus": [
            [
             0,
             "#0d0887"
            ],
            [
             0.1111111111111111,
             "#46039f"
            ],
            [
             0.2222222222222222,
             "#7201a8"
            ],
            [
             0.3333333333333333,
             "#9c179e"
            ],
            [
             0.4444444444444444,
             "#bd3786"
            ],
            [
             0.5555555555555556,
             "#d8576b"
            ],
            [
             0.6666666666666666,
             "#ed7953"
            ],
            [
             0.7777777777777778,
             "#fb9f3a"
            ],
            [
             0.8888888888888888,
             "#fdca26"
            ],
            [
             1,
             "#f0f921"
            ]
           ]
          },
          "colorway": [
           "#636efa",
           "#EF553B",
           "#00cc96",
           "#ab63fa",
           "#FFA15A",
           "#19d3f3",
           "#FF6692",
           "#B6E880",
           "#FF97FF",
           "#FECB52"
          ],
          "font": {
           "color": "#2a3f5f"
          },
          "geo": {
           "bgcolor": "white",
           "lakecolor": "white",
           "landcolor": "#E5ECF6",
           "showlakes": true,
           "showland": true,
           "subunitcolor": "white"
          },
          "hoverlabel": {
           "align": "left"
          },
          "hovermode": "closest",
          "mapbox": {
           "style": "light"
          },
          "paper_bgcolor": "white",
          "plot_bgcolor": "#E5ECF6",
          "polar": {
           "angularaxis": {
            "gridcolor": "white",
            "linecolor": "white",
            "ticks": ""
           },
           "bgcolor": "#E5ECF6",
           "radialaxis": {
            "gridcolor": "white",
            "linecolor": "white",
            "ticks": ""
           }
          },
          "scene": {
           "xaxis": {
            "backgroundcolor": "#E5ECF6",
            "gridcolor": "white",
            "gridwidth": 2,
            "linecolor": "white",
            "showbackground": true,
            "ticks": "",
            "zerolinecolor": "white"
           },
           "yaxis": {
            "backgroundcolor": "#E5ECF6",
            "gridcolor": "white",
            "gridwidth": 2,
            "linecolor": "white",
            "showbackground": true,
            "ticks": "",
            "zerolinecolor": "white"
           },
           "zaxis": {
            "backgroundcolor": "#E5ECF6",
            "gridcolor": "white",
            "gridwidth": 2,
            "linecolor": "white",
            "showbackground": true,
            "ticks": "",
            "zerolinecolor": "white"
           }
          },
          "shapedefaults": {
           "line": {
            "color": "#2a3f5f"
           }
          },
          "ternary": {
           "aaxis": {
            "gridcolor": "white",
            "linecolor": "white",
            "ticks": ""
           },
           "baxis": {
            "gridcolor": "white",
            "linecolor": "white",
            "ticks": ""
           },
           "bgcolor": "#E5ECF6",
           "caxis": {
            "gridcolor": "white",
            "linecolor": "white",
            "ticks": ""
           }
          },
          "title": {
           "x": 0.05
          },
          "xaxis": {
           "automargin": true,
           "gridcolor": "white",
           "linecolor": "white",
           "ticks": "",
           "title": {
            "standoff": 15
           },
           "zerolinecolor": "white",
           "zerolinewidth": 2
          },
          "yaxis": {
           "automargin": true,
           "gridcolor": "white",
           "linecolor": "white",
           "ticks": "",
           "title": {
            "standoff": 15
           },
           "zerolinecolor": "white",
           "zerolinewidth": 2
          }
         }
        },
        "title": {
         "text": "Trend of Popular Genres Over Time"
        },
        "xaxis": {
         "anchor": "y",
         "domain": [
          0,
          1
         ],
         "title": {
          "text": "Year"
         }
        },
        "yaxis": {
         "anchor": "x",
         "domain": [
          0,
          1
         ],
         "title": {
          "text": "Number of Titles"
         }
        }
       }
      },
      "image/png": "[encoded data removed]"
     },
     "metadata": {},
     "output_type": "display_data"
    }
   ],
   "source": [
    "popular_genres = df['Main_Genre'].value_counts().head(5).index\n",
    "genre_trends = df[df['Main_Genre'].isin(popular_genres)].groupby(['Year','Main_Genre']).size().reset_index(name='Count')\n",
    "fig5 = px.line(genre_trends, x='Year', y='Count', color='Main_Genre', markers=True,\n",
    "               title=\"Trend of Popular Genres Over Time\",\n",
    "               labels={'Count':'Number of Titles','Year':'Year','Main_Genre':'Genre'},\n",
    "               color_discrete_sequence=px.colors.qualitative.Bold)\n",
    "fig5.show()"
   ]
  },
  {
   "cell_type": "code",
   "execution_count": null,
   "id": "8aa79ce1-cdba-4505-a1be-0545954f43a1",
   "metadata": {},
   "outputs": [],
   "source": []
  }
 ],
 "metadata": {
  "kernelspec": {
   "display_name": "Python 3 (ipykernel)",
   "language": "python",
   "name": "python3"
  },
  "language_info": {
   "codemirror_mode": {
    "name": "ipython",
    "version": 3
   },
   "file_extension": ".py",
   "mimetype": "text/x-python",
   "name": "python",
   "nbconvert_exporter": "python",
   "pygments_lexer": "ipython3",
   "version": "3.11.1"
  }
 },
 "nbformat": 4,
 "nbformat_minor": 5
}
